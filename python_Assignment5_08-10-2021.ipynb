{
 "cells": [
  {
   "cell_type": "markdown",
   "id": "c8d04a7f",
   "metadata": {},
   "source": [
    "### ==>(1) Vowel Skewers\n"
   ]
  },
  {
   "cell_type": "code",
   "execution_count": 271,
   "id": "506305c0",
   "metadata": {},
   "outputs": [],
   "source": [
    "def is_authentic_skewer(letters):\n",
    "    vowels=[\"A\",\"E\",\"I\",\"O\",\"U\"]\n",
    "    df=[]\n",
    "    cv=[]\n",
    "    if letters[4] and letters[-4] in vowels:\n",
    "        print(True)\n",
    "    else:\n",
    "            for a in range(len(letters)):\n",
    "                    if letters[a] in vowels:\n",
    "                        df.append(a)\n",
    "            for b in range(1,df[-1]+1):\n",
    "                    if b%2 !=0:\n",
    "                        cv.append(b)\n",
    "                    if df ==cv:\n",
    "                        print(True)\n",
    "            else:\n",
    "                    print(False)"
   ]
  },
  {
   "cell_type": "code",
   "execution_count": 272,
   "id": "44321ce9",
   "metadata": {},
   "outputs": [
    {
     "name": "stdout",
     "output_type": "stream",
     "text": [
      "True\n"
     ]
    }
   ],
   "source": [
    "#Example1.1\n",
    "is_authentic_skewer(\"B--A--N--A--N--A--S\")"
   ]
  },
  {
   "cell_type": "code",
   "execution_count": 273,
   "id": "557b1cad",
   "metadata": {},
   "outputs": [
    {
     "name": "stdout",
     "output_type": "stream",
     "text": [
      "False\n"
     ]
    }
   ],
   "source": [
    "#Example1.2\n",
    "is_authentic_skewer(\"A--X--E\") # Should start and end with a consonant."
   ]
  },
  {
   "cell_type": "code",
   "execution_count": 274,
   "id": "2a403fcf",
   "metadata": {},
   "outputs": [
    {
     "name": "stdout",
     "output_type": "stream",
     "text": [
      "False\n"
     ]
    }
   ],
   "source": [
    "#Example1.3\n",
    "is_authentic_skewer(\"C-L-A-P\") # Should alternate between consonants and vowels."
   ]
  },
  {
   "cell_type": "code",
   "execution_count": 275,
   "id": "bde5d37d",
   "metadata": {},
   "outputs": [
    {
     "name": "stdout",
     "output_type": "stream",
     "text": [
      "False\n"
     ]
    }
   ],
   "source": [
    "#Example1.4\n",
    "is_authentic_skewer(\"M--A---T-E-S\") # Should have consistent spacing between letters."
   ]
  },
  {
   "cell_type": "markdown",
   "id": "e80405b9",
   "metadata": {},
   "source": [
    "### ==>(3)Recursion: Flatten the Curves\n"
   ]
  },
  {
   "cell_type": "code",
   "execution_count": 10,
   "id": "395bddb6",
   "metadata": {},
   "outputs": [],
   "source": [
    "def flatten(sentence):\n",
    "    if sentence == []:\n",
    "        return sentence\n",
    "    if isinstance(sentence[0], list): #isinstance use to return true if it is\n",
    "        return flatten(sentence[0]) + flatten(sentence[1:])\n",
    "    return sentence[:1] + flatten(sentence[1:]) "
   ]
  },
  {
   "cell_type": "code",
   "execution_count": 11,
   "id": "6e101982",
   "metadata": {},
   "outputs": [
    {
     "name": "stdout",
     "output_type": "stream",
     "text": [
      "Flattened Curves:  ['direction', 372, 'one', 'Era', 'Sruth', 3337, 'First']\n"
     ]
    }
   ],
   "source": [
    "#Example3.1\n",
    "sentence=(([[[[[[\"direction\"], [372], [\"one\"], [[[[[[\"Era\"]]]], \"Sruth\",\n",
    "3337]]], \"First\"]]]]))\n",
    "print(\"Flattened Curves: \",flatten(sentence))"
   ]
  },
  {
   "cell_type": "code",
   "execution_count": 12,
   "id": "d676686e",
   "metadata": {},
   "outputs": [
    {
     "name": "stdout",
     "output_type": "stream",
     "text": [
      "Flattened Curves:  ['deep', 'ocean', 'Marge', 'rase', 876]\n"
     ]
    }
   ],
   "source": [
    "#Example3.2\n",
    "sentence=(([[[\"deep\"], [[[\"ocean\"]]], [[\"Marge\"]], [\"rase\", 876]]]))\n",
    "print(\"Flattened Curves: \",flatten(sentence))"
   ]
  },
  {
   "cell_type": "code",
   "execution_count": 13,
   "id": "2285d0d3",
   "metadata": {},
   "outputs": [
    {
     "name": "stdout",
     "output_type": "stream",
     "text": [
      "Flattened Curves:  [4666, 5394, 466, 'Saskia', 'DXTD', 'Lexi']\n"
     ]
    }
   ],
   "source": [
    "#Example3.3\n",
    "sentence=(([[4666], [5394], [466], [[[\"Saskia\", [[[[[\"DXTD\"]], \"Lexi\"]]]]]]]))\n",
    "print(\"Flattened Curves: \",flatten(sentence))"
   ]
  },
  {
   "cell_type": "code",
   "execution_count": 14,
   "id": "425379a4",
   "metadata": {},
   "outputs": [
    {
     "name": "stdout",
     "output_type": "stream",
     "text": [
      "Flattened Curves:  [696, 'friend', 'power', 'Marcus', 'philus']\n"
     ]
    }
   ],
   "source": [
    "#Example3.4\n",
    "sentence=(([[696], [\"friend\"], [\"power\"], [[[[\"Marcus\"]]]], [\"philus\"]]))\n",
    "print(\"Flattened Curves: \",flatten(sentence))"
   ]
  },
  {
   "cell_type": "markdown",
   "id": "4eb7cef3",
   "metadata": {},
   "source": [
    "### ==>(4)Next Largest Number\n"
   ]
  },
  {
   "cell_type": "code",
   "execution_count": 49,
   "id": "b1022ab9",
   "metadata": {},
   "outputs": [],
   "source": [
    "def next_largest_number(n):\n",
    "    if str(n) == ''.join(sorted(str(n))[::-1]):\n",
    "        return n\n",
    "    a = n\n",
    "    while True:\n",
    "        a += 1\n",
    "        if sorted(str(a)) == sorted(str(n)):\n",
    "            return a"
   ]
  },
  {
   "cell_type": "code",
   "execution_count": 50,
   "id": "5b24ce66",
   "metadata": {},
   "outputs": [
    {
     "data": {
      "text/plain": [
       "91"
      ]
     },
     "execution_count": 50,
     "metadata": {},
     "output_type": "execute_result"
    }
   ],
   "source": [
    "#Example4.1\n",
    "next_largest_number(19)"
   ]
  },
  {
   "cell_type": "code",
   "execution_count": 51,
   "id": "666506e5",
   "metadata": {},
   "outputs": [
    {
     "data": {
      "text/plain": [
       "4235"
      ]
     },
     "execution_count": 51,
     "metadata": {},
     "output_type": "execute_result"
    }
   ],
   "source": [
    "#example4.2\n",
    "next_largest_number(3542)"
   ]
  },
  {
   "cell_type": "code",
   "execution_count": 52,
   "id": "1a91243d",
   "metadata": {},
   "outputs": [
    {
     "data": {
      "text/plain": [
       "5432"
      ]
     },
     "execution_count": 52,
     "metadata": {},
     "output_type": "execute_result"
    }
   ],
   "source": [
    "#example4.3\n",
    "next_largest_number(5432) # If no larger number can be formed, return the number itself.\n"
   ]
  },
  {
   "cell_type": "code",
   "execution_count": 53,
   "id": "6fafbadb",
   "metadata": {},
   "outputs": [
    {
     "data": {
      "text/plain": [
       "59348"
      ]
     },
     "execution_count": 53,
     "metadata": {},
     "output_type": "execute_result"
    }
   ],
   "source": [
    "#example4.4\n",
    "next_largest_number(58943)"
   ]
  },
  {
   "cell_type": "markdown",
   "id": "d48c6017",
   "metadata": {},
   "source": [
    "### ==>(5)The Resistor Colors"
   ]
  },
  {
   "cell_type": "code",
   "execution_count": 310,
   "id": "522472a6",
   "metadata": {},
   "outputs": [],
   "source": [
    "# Function to find the resistance\n",
    "# using color codes\n",
    "def findResistance(a, b, c, d,e,f):\n",
    "    Digit = {'black': '0',\n",
    "                'brown': '1',\n",
    "                'red': '2',\n",
    "                'orange': '3',\n",
    "                'yellow': '4',\n",
    "                'green' : '5',\n",
    "                'blue' : '6',\n",
    "                'violet' : '7',\n",
    "                'gray' : '8',\n",
    "                'white': '9'} #(colors and its values)\n",
    "\n",
    "    Magnitude = {'brown': 'ohm',\n",
    "                'red': 'ohm',\n",
    "                'orange': 'Kohm',\n",
    "                'yellow': 'Mohm',\n",
    "                'green' : 'Mohm',\n",
    "                'blue' : 'Mohm',\n",
    "                'violet' : 'Mohm',\n",
    "                'gray' : 'Gohm',\n",
    "                'white': 'Gohm',\n",
    "                'gold':'Mohm',\n",
    "                'silver':'-2'} #(colors and its magnitude)\n",
    "\n",
    "    Tolerance = {'brown': '+/-1%',\n",
    "                'red' : '+/-2%',\n",
    "                'green': \"+/-0.5%\",\n",
    "                'blue': '+/-0.25%',\n",
    "                'violet' : '+/-0.1%',\n",
    "                'gray':'+/-0.05%',\n",
    "                'gold': '+/-5%',\n",
    "                'silver' : '+/-10%'}#(colors and its tolerance)\n",
    "    \n",
    "    ToleranceC= {'brown': '100ppm/k',\n",
    "                'red' : '50ppm/k',\n",
    "                'orange': \"15ppm/k\",\n",
    "                'yellow': '25ppm/k',\n",
    "                'blue' : '10ppm/k',\n",
    "                'violet':'5ppm/k'}# parts per million per kelvin\n",
    "    if a in Digit\\\n",
    "    and b in Digit\\\n",
    "    and c in Digit\\\n",
    "    and d in Magnitude\\\n",
    "    and e in Tolerance\\\n",
    "    and f in ToleranceC:\n",
    "        xx = Digit.get(a)\n",
    "        yy = Digit.get(b)\n",
    "        zz = Digit.get(c)\n",
    "        aa = Magnitude.get(d)\n",
    "        bb = Tolerance.get(e)\n",
    "        cc = ToleranceC.get(f)\n",
    "        print(\"Resistance = \"+xx + yy+ zz+aa+\" \"+bb+\" \"+cc)\n",
    "    else:\n",
    "        print(\"Invalid Colors\")"
   ]
  },
  {
   "cell_type": "code",
   "execution_count": 312,
   "id": "3a5ac02e",
   "metadata": {},
   "outputs": [
    {
     "name": "stdout",
     "output_type": "stream",
     "text": [
      "Resistance = 909Mohm +/-5% 25ppm/k\n"
     ]
    }
   ],
   "source": [
    "#example5.1\n",
    "if __name__ == \"__main__\":\n",
    "    a = \"white\"\n",
    "    b = \"black\"\n",
    "    c = \"white\"\n",
    "    d = \"blue\"\n",
    "    e = \"gold\"\n",
    "findResistance(a, b, c, d,e,f)"
   ]
  },
  {
   "cell_type": "code",
   "execution_count": 313,
   "id": "292e6be3",
   "metadata": {},
   "outputs": [
    {
     "name": "stdout",
     "output_type": "stream",
     "text": [
      "Resistance = 090Kohm +/-2% 25ppm/k\n"
     ]
    }
   ],
   "source": [
    "#example5.2\n",
    "if __name__ == \"__main__\":\n",
    "    a = \"black\"\n",
    "    b = \"white\"\n",
    "    c = \"black\"\n",
    "    d = \"orange\"\n",
    "    e = \"red\"\n",
    "    f = \"yellow\"\n",
    "findResistance(a, b, c, d,e,f)"
   ]
  },
  {
   "cell_type": "code",
   "execution_count": 314,
   "id": "933518ab",
   "metadata": {},
   "outputs": [
    {
     "name": "stdout",
     "output_type": "stream",
     "text": [
      "Resistance = 246Mohm +/-2% 25ppm/k\n"
     ]
    }
   ],
   "source": [
    "#example5.3\n",
    "if __name__ == \"__main__\":\n",
    "    a = \"red\"\n",
    "    b = \"yellow\"\n",
    "    c = \"blue\"\n",
    "    d = \"green\"\n",
    "findResistance(a, b, c, d,e,f)"
   ]
  },
  {
   "cell_type": "markdown",
   "id": "84273b06",
   "metadata": {},
   "source": [
    "### ==>(6)Validate Subsequences"
   ]
  },
  {
   "cell_type": "code",
   "execution_count": 54,
   "id": "01c4c7d3",
   "metadata": {},
   "outputs": [],
   "source": [
    "def isValidSubsequence(array,sequence):\n",
    "    array_idx=0\n",
    "    sequence_idx=0\n",
    "    while array_idx < len(array)and sequence_idx<len(sequence):\n",
    "        if array [array_idx]== sequence[sequence_idx]:\n",
    "            sequence_idx +=1\n",
    "        array_idx+=1\n",
    "    return sequence_idx == len(sequence)"
   ]
  },
  {
   "cell_type": "code",
   "execution_count": 55,
   "id": "ae469b38",
   "metadata": {},
   "outputs": [
    {
     "data": {
      "text/plain": [
       "False"
      ]
     },
     "execution_count": 55,
     "metadata": {},
     "output_type": "execute_result"
    }
   ],
   "source": [
    "#example6.1\n",
    "isValidSubsequence([1, 1, 6, 1],[1, 1, 1, 6])"
   ]
  },
  {
   "cell_type": "code",
   "execution_count": 56,
   "id": "afdb6f05",
   "metadata": {},
   "outputs": [
    {
     "data": {
      "text/plain": [
       "True"
      ]
     },
     "execution_count": 56,
     "metadata": {},
     "output_type": "execute_result"
    }
   ],
   "source": [
    "#example6.2\n",
    "isValidSubsequence([5, 1, 22, 25, 6, -1, 8, 10], [22, 25, 6])"
   ]
  },
  {
   "cell_type": "code",
   "execution_count": 36,
   "id": "69020a8c",
   "metadata": {},
   "outputs": [
    {
     "data": {
      "text/plain": [
       "True"
      ]
     },
     "execution_count": 36,
     "metadata": {},
     "output_type": "execute_result"
    }
   ],
   "source": [
    "#example6.3\n",
    "isValidSubsequence([1, 2, 3, 4], [2, 4])"
   ]
  },
  {
   "cell_type": "markdown",
   "id": "fd922653",
   "metadata": {},
   "source": [
    "### ==>(2) Recursion: Reversible Inclusive List Ranges"
   ]
  },
  {
   "cell_type": "code",
   "execution_count": null,
   "id": "ff581e19",
   "metadata": {},
   "outputs": [],
   "source": [
    "def inclusive_list_range(start,stop):\n",
    "    if start<stop:\n",
    "        print (start)\n",
    "        inclusive_list_range(start+1,stop)\n",
    "    elif start>stop:\n",
    "        print (list(range(start,stop-1,-1)))\n",
    "start=int(input(\"Enter the start value=\"))\n",
    "stop=int(input(\"Enter the stop value=\"))\n",
    "\n",
    "print (inclusive_list_range(start,stop))"
   ]
  }
 ],
 "metadata": {
  "kernelspec": {
   "display_name": "Python 3 (ipykernel)",
   "language": "python",
   "name": "python3"
  },
  "language_info": {
   "codemirror_mode": {
    "name": "ipython",
    "version": 3
   },
   "file_extension": ".py",
   "mimetype": "text/x-python",
   "name": "python",
   "nbconvert_exporter": "python",
   "pygments_lexer": "ipython3",
   "version": "3.8.10"
  }
 },
 "nbformat": 4,
 "nbformat_minor": 5
}

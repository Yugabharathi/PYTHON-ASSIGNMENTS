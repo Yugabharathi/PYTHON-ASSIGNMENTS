{
 "cells": [
  {
   "cell_type": "markdown",
   "id": "abf8a031",
   "metadata": {},
   "source": [
    "### Students Mark"
   ]
  },
  {
   "cell_type": "code",
   "execution_count": 3,
   "id": "2bb5a267",
   "metadata": {},
   "outputs": [
    {
     "name": "stdout",
     "output_type": "stream",
     "text": [
      "['Aamruth-100', ',Kavin-90', ',Sharbadeepa-35', ',Vijay-0', ',Yuga-100']\n"
     ]
    }
   ],
   "source": [
    "import re\n",
    "\n",
    "Report_Card=\"Aamruth-100,Kavin-90,Sharbadeepa-35,Vijay-0,Yuga-100\"\n",
    "result=re.findall(r'\\D+\\w\\d{0,2}',Report_Card)\n",
    "print(result)"
   ]
  },
  {
   "cell_type": "markdown",
   "id": "ed9ebca8",
   "metadata": {},
   "source": [
    "### Password using regex"
   ]
  },
  {
   "cell_type": "code",
   "execution_count": 3,
   "id": "4db127cf",
   "metadata": {},
   "outputs": [
    {
     "name": "stdout",
     "output_type": "stream",
     "text": [
      "enter your password:yuga\n",
      "Not a Valid Password\n"
     ]
    }
   ],
   "source": [
    "import re\n",
    "password =input(\"enter your password:\")\n",
    "count = 0\n",
    "while True:  \n",
    "    if (len(password)<8):\n",
    "        count = -1\n",
    "        break\n",
    "    elif not re.search(\"[a-z]\", password):\n",
    "        count = -1\n",
    "        break\n",
    "    elif not re.search(\"[A-Z]\", password):\n",
    "        count = -1\n",
    "        break\n",
    "    elif not re.search(\"[0-9]\", password):\n",
    "        count = -1\n",
    "        break\n",
    "    elif not re.search(\"[*&#_@$]\", password):\n",
    "        count = -1\n",
    "        break\n",
    "    elif re.search(\"\\s\", password):\n",
    "        count = -1\n",
    "        break\n",
    "    else:\n",
    "        count = 0\n",
    "        print(\"Valid Password\")\n",
    "        break\n",
    "\n",
    "        \n",
    "        \n",
    "if count ==-1:\n",
    "    print(\"Not a Valid Password\")"
   ]
  },
  {
   "cell_type": "markdown",
   "id": "f5ee7e70",
   "metadata": {},
   "source": [
    "### Regex Time "
   ]
  },
  {
   "cell_type": "code",
   "execution_count": 10,
   "id": "22cdf61a",
   "metadata": {},
   "outputs": [
    {
     "name": "stdout",
     "output_type": "stream",
     "text": [
      "Harpreet have meeting at 11:00 AM\n"
     ]
    },
    {
     "data": {
      "text/plain": [
       "' 11:00 AM'"
      ]
     },
     "execution_count": 10,
     "metadata": {},
     "output_type": "execute_result"
    }
   ],
   "source": [
    "import re\n",
    "Time=input()\n",
    "re.search(\"\\s(\\d{2}\\:\\d{2}\\s(AM|PM|am|pm))\",Time).group()\n",
    "\n",
    "\n"
   ]
  },
  {
   "cell_type": "code",
   "execution_count": null,
   "id": "cc61325a",
   "metadata": {},
   "outputs": [],
   "source": []
  }
 ],
 "metadata": {
  "kernelspec": {
   "display_name": "Python 3 (ipykernel)",
   "language": "python",
   "name": "python3"
  },
  "language_info": {
   "codemirror_mode": {
    "name": "ipython",
    "version": 3
   },
   "file_extension": ".py",
   "mimetype": "text/x-python",
   "name": "python",
   "nbconvert_exporter": "python",
   "pygments_lexer": "ipython3",
   "version": "3.8.10"
  }
 },
 "nbformat": 4,
 "nbformat_minor": 5
}

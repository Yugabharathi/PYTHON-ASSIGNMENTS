{
 "cells": [
  {
   "cell_type": "code",
   "execution_count": null,
   "id": "1d6a19b3",
   "metadata": {},
   "outputs": [],
   "source": [
    "from glob import glob\n",
    "files=glob('/home/yugabharathi/Downloads/images/*')\n",
    "print(len(files))"
   ]
  },
  {
   "cell_type": "code",
   "execution_count": null,
   "id": "9800963c",
   "metadata": {},
   "outputs": [],
   "source": [
    "import cv2\n",
    "import pytesseract\n",
    "import numpy as np\n",
    "import re\n",
    "\n",
    "for file in files:\n",
    "    img = cv2.imread(file)\n",
    "    name=file.split('/')[-1].split('.')[0]\n",
    "    gray = cv2.cvtColor(img, cv2.COLOR_BGR2GRAY)\n",
    "    ret2,thresh= cv2.threshold(gray,0,255,cv2.THRESH_BINARY+cv2.THRESH_OTSU)\n",
    "    kernel = np.ones((5,5),np.uint8)\n",
    "    kernel2 = np.ones((3,3),np.uint8)\n",
    "    marker = cv2.dilate(thresh,kernel,iterations = 1)\n",
    "    mask=cv2.erode(thresh,kernel,iterations = 1)\n",
    "    to_test=[]\n",
    "\n",
    "    while True:\n",
    "        tmp=marker.copy()\n",
    "        marker=cv2.erode(marker, kernel2)\n",
    "        marker=cv2.max(mask, marker)\n",
    "        difference = cv2.subtract(tmp, marker)\n",
    "        if cv2.countNonZero(difference) == 0:\n",
    "            break\n",
    "\n",
    "    marker_color = cv2.cvtColor(marker, cv2.COLOR_GRAY2BGR)\n",
    "    out=cv2.bitwise_or(img, marker_color)\n",
    "\n",
    "    image_data_1 = pytesseract.image_to_string(out, config=\"--psm 11\")\n",
    "\n",
    "    if re.search(\"invoice\",image_data_1.lower()):\n",
    "        print(\"invoice\",name)\n",
    "    else:\n",
    "        print(\"unclassified\",name)\n",
    " "
   ]
  },
  {
   "cell_type": "code",
   "execution_count": null,
   "id": "1ee0d02b",
   "metadata": {},
   "outputs": [],
   "source": []
  },
  {
   "cell_type": "code",
   "execution_count": null,
   "id": "e8ddce5b",
   "metadata": {},
   "outputs": [],
   "source": []
  }
 ],
 "metadata": {
  "kernelspec": {
   "display_name": "Python 3 (ipykernel)",
   "language": "python",
   "name": "python3"
  },
  "language_info": {
   "codemirror_mode": {
    "name": "ipython",
    "version": 3
   },
   "file_extension": ".py",
   "mimetype": "text/x-python",
   "name": "python",
   "nbconvert_exporter": "python",
   "pygments_lexer": "ipython3",
   "version": "3.8.10"
  }
 },
 "nbformat": 4,
 "nbformat_minor": 5
}

{
 "cells": [
  {
   "cell_type": "markdown",
   "id": "8f4ad2f3",
   "metadata": {},
   "source": [
    "## 1.password question"
   ]
  },
  {
   "cell_type": "code",
   "execution_count": 134,
   "id": "c5401c1d",
   "metadata": {},
   "outputs": [
    {
     "name": "stdout",
     "output_type": "stream",
     "text": [
      "enter your password:Yuga@1234\n",
      "Valid Password\n"
     ]
    }
   ],
   "source": [
    "import re\n",
    "password =input(\"enter your password:\")\n",
    "while True:  \n",
    "    if (len(password)<8):\n",
    "        count = -1\n",
    "        break\n",
    "    elif not re.search(\"[a-z]\", password):\n",
    "        count = -1\n",
    "        break\n",
    "    elif not re.search(\"[A-Z]\", password):\n",
    "        count = -1\n",
    "        break\n",
    "    elif not re.search(\"[0-9]\", password):\n",
    "        count = -1\n",
    "        break\n",
    "    elif not re.search(\"[*&#_@$]\", password):\n",
    "        count = -1\n",
    "        break\n",
    "    elif re.search(\"\\s\", password):\n",
    "        count = -1\n",
    "        break\n",
    "    else:\n",
    "        count = 0\n",
    "        print(\"Valid Password\")\n",
    "        break\n",
    "\n",
    "        \n",
    "        \n",
    "if count ==-1:\n",
    "    print(\"Not a Valid Password\")"
   ]
  },
  {
   "cell_type": "markdown",
   "id": "ef353810",
   "metadata": {},
   "source": [
    "## 2.aabb sum"
   ]
  },
  {
   "cell_type": "code",
   "execution_count": 21,
   "id": "5323828c",
   "metadata": {},
   "outputs": [
    {
     "name": "stdout",
     "output_type": "stream",
     "text": [
      "ENTER THE NUMBER 5\n",
      "Enter the number 4\n",
      "aabababab\n"
     ]
    }
   ],
   "source": [
    "class Solution:\n",
    "    \n",
    "    def strWithout3a3b(self, A, B):\n",
    "        ans = []\n",
    "\n",
    "        while A or B:\n",
    "            if len(ans) >= 2 and ans[-1] == ans[-2]:\n",
    "                writeA = ans[-1] == 'b'\n",
    "            else:\n",
    "                writeA = A >= B\n",
    "\n",
    "            if writeA:\n",
    "                A -= 1\n",
    "                ans.append('a')\n",
    "            else:\n",
    "                B -= 1\n",
    "                ans.append('b')\n",
    "\n",
    "        return \"\".join(ans)\n",
    "S1 = Solution()\n",
    "print(S1.strWithout3a3b(A=int(input(\"ENTER THE NUMBER \")),B=int(input(\"Enter the number \"))))"
   ]
  },
  {
   "cell_type": "markdown",
   "id": "de25a93a",
   "metadata": {},
   "source": [
    "## 3.isomorphic"
   ]
  },
  {
   "cell_type": "code",
   "execution_count": 1,
   "id": "560cfb4b",
   "metadata": {},
   "outputs": [
    {
     "name": "stdout",
     "output_type": "stream",
     "text": [
      "Enter the String-->  egg\n",
      "Enter the String-->  add\n"
     ]
    },
    {
     "data": {
      "text/plain": [
       "True"
      ]
     },
     "execution_count": 1,
     "metadata": {},
     "output_type": "execute_result"
    }
   ],
   "source": [
    "def isomorphic(a,b):\n",
    "    iso_s = {}\n",
    "    iso_t = {}\n",
    "    for i, value in enumerate(a):\n",
    "        iso_s[value]= iso_s.get(value,[]) + [i]\n",
    "    for j, value in enumerate(b):\n",
    "        iso_t[value]= iso_t.get(value,[]) + [j]\n",
    "    if sorted(iso_s.values()) == sorted(iso_t.values()):\n",
    "        return True\n",
    "    else:\n",
    "        return False\n",
    "isomorphic(a=input(\"Enter the String-->  \"),b=input(\"Enter the String-->  \"))"
   ]
  },
  {
   "cell_type": "markdown",
   "id": "9c589f80",
   "metadata": {},
   "source": [
    "## 4.split"
   ]
  },
  {
   "cell_type": "code",
   "execution_count": 162,
   "id": "e3ca1d3f",
   "metadata": {},
   "outputs": [
    {
     "name": "stdout",
     "output_type": "stream",
     "text": [
      "[50, 9]\n",
      "[90, 5]\n",
      "[400, 30, 4]\n",
      "[100, 0, 0]\n",
      "[800, 40, 6]\n"
     ]
    }
   ],
   "source": [
    "def num_split(num):\n",
    "    num = str(num)\n",
    "    num = [a for a in num]\n",
    "    num = num[::-1]\n",
    "    num_lis = []\n",
    "    f = 1\n",
    "    for i in range(len(num)):\n",
    "        num_lis.append(f*int(num[i]))\n",
    "        f = f*10\n",
    "    return num_lis[::-1]\n",
    "\n",
    "\n",
    "print(num_split(59))\n",
    "print(num_split(95))\n",
    "print(num_split(434))\n",
    "print(num_split(100))\n",
    "print(num_split(846))\n",
    "\n",
    "\n"
   ]
  },
  {
   "cell_type": "markdown",
   "id": "0b43cd3e",
   "metadata": {},
   "source": [
    "## 5.spilt sum"
   ]
  },
  {
   "cell_type": "code",
   "execution_count": 216,
   "id": "47df7d91",
   "metadata": {},
   "outputs": [
    {
     "name": "stdout",
     "output_type": "stream",
     "text": [
      "[800, 40, 6]\n"
     ]
    }
   ],
   "source": [
    "num = 846\n",
    "num = str(num)\n",
    "num_1 = []\n",
    "for i in num:\n",
    "    num_1.append(i)\n",
    "num_1 = num_1[::-1]\n",
    "num_lis = []\n",
    "f = 1\n",
    "for i in range(len(num_1)):\n",
    "    num_lis.append(f*int(num_1[i]))\n",
    "    f = f*10\n",
    "print(num_lis[::-1])"
   ]
  },
  {
   "cell_type": "markdown",
   "id": "5f6c85b6",
   "metadata": {},
   "source": [
    "## 7.highest power"
   ]
  },
  {
   "cell_type": "code",
   "execution_count": 223,
   "id": "520271a1",
   "metadata": {},
   "outputs": [
    {
     "name": "stdout",
     "output_type": "stream",
     "text": [
      "Enter the Number32\n",
      "[2, 4, 8, 16]\n",
      "[2, 4, 8, 16]\n",
      "4\n",
      "None\n"
     ]
    }
   ],
   "source": [
    "def number(n):\n",
    "    num=int(n/3)\n",
    "    x=[]\n",
    "    div=[]\n",
    "    for i in range(1,num):\n",
    "        b=2**i\n",
    "        x.append(b)\n",
    "        if b > num :\n",
    "            break\n",
    "    print(x)\n",
    "    \n",
    "    for j in x:\n",
    "        if n%j==0:\n",
    "            div.append(j)\n",
    "    print(div)\n",
    "    print(len(div))\n",
    "print(number(n=int(input('Enter the Number'))))"
   ]
  },
  {
   "cell_type": "markdown",
   "id": "b78289f8",
   "metadata": {},
   "source": [
    "## 8.transpose"
   ]
  },
  {
   "cell_type": "code",
   "execution_count": 228,
   "id": "938dcc7d",
   "metadata": {},
   "outputs": [
    {
     "name": "stdout",
     "output_type": "stream",
     "text": [
      "<class 'list'>\n",
      "<class 'list'>\n",
      "FALSE\n"
     ]
    }
   ],
   "source": [
    "def list_new(a):\n",
    "    \n",
    "    import numpy as np\n",
    "    # a = [[1,2,3],[2,3,4],[4,5,6]]\n",
    "    print(type(a))\n",
    "    new = np.array(a)\n",
    "    x_tanspos = np.transpose(new)\n",
    "    list_x_tanspos = x_tanspos.tolist()\n",
    "    print(type(list_x_tanspos))\n",
    "    if list_x_tanspos == sorted(list_x_tanspos):\n",
    "        print(\"TRUE\")\n",
    "    else:\n",
    "        print(\"FALSE\")\n",
    "\n",
    "\n",
    "\n",
    "list_new([[1, 2, 3, 2, 1, 1],\n",
    "[2, 4, 4, 3, 2, 2],\n",
    "[5, 5, 5, 10, 4, 4],\n",
    "[6, 6, 7, 6, 5, 5]])"
   ]
  },
  {
   "cell_type": "markdown",
   "id": "02036157",
   "metadata": {},
   "source": [
    "## 9.DATE TIME"
   ]
  },
  {
   "cell_type": "code",
   "execution_count": 229,
   "id": "1b3455de",
   "metadata": {},
   "outputs": [
    {
     "name": "stdout",
     "output_type": "stream",
     "text": [
      "['01 Jan 2007', '10 Jul 2016', '2 Dec 2017', '11 Jun 2018', '23 Jun 2018', '01 Jan 2019']\n",
      "23 Jun 2018\n",
      "2 Dec 2017\n",
      "11 Jun 2018\n",
      "01 Jan 2019\n",
      "10 Jul 2016\n",
      "01 Jan 2007\n"
     ]
    }
   ],
   "source": [
    "from datetime import datetime\n",
    "def datenew(dates):\n",
    "    dates = [\"23 Jun 2018\", \"2 Dec 2017\", \"11 Jun 2018\", \"01 Jan 2019\", \"10 Jul 2016\", \"01 Jan 2007\"]\n",
    "    for i in range(len(dates)):\n",
    "        print(dates[i])\n",
    "if __name__ == '__main__':\n",
    "    dates = [\"23 Jun 2018\", \"2 Dec 2017\", \"11 Jun 2018\", \n",
    "            \"01 Jan 2019\", \"10 Jul 2016\", \"01 Jan 2007\"]  \n",
    "    dates.sort(key = lambda date:datetime.strptime(date, \"%d %b %Y\"))\n",
    "    print(dates)\n",
    "    datenew(dates)"
   ]
  },
  {
   "cell_type": "code",
   "execution_count": null,
   "id": "078368b8",
   "metadata": {},
   "outputs": [],
   "source": []
  }
 ],
 "metadata": {
  "kernelspec": {
   "display_name": "Python 3 (ipykernel)",
   "language": "python",
   "name": "python3"
  },
  "language_info": {
   "codemirror_mode": {
    "name": "ipython",
    "version": 3
   },
   "file_extension": ".py",
   "mimetype": "text/x-python",
   "name": "python",
   "nbconvert_exporter": "python",
   "pygments_lexer": "ipython3",
   "version": "3.8.10"
  }
 },
 "nbformat": 4,
 "nbformat_minor": 5
}

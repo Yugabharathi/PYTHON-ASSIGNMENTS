{
 "cells": [
  {
   "cell_type": "markdown",
   "id": "2ccd38b2",
   "metadata": {},
   "source": [
    "### =========================>Assignment-14<============================"
   ]
  },
  {
   "cell_type": "markdown",
   "id": "df6142f8",
   "metadata": {},
   "source": [
    "### ===>RegEx Exercise #1: Float Number"
   ]
  },
  {
   "cell_type": "code",
   "execution_count": 15,
   "id": "28e5f2a2",
   "metadata": {},
   "outputs": [
    {
     "name": "stdout",
     "output_type": "stream",
     "text": [
      "12.12\n",
      "True\n"
     ]
    }
   ],
   "source": [
    "import re \n",
    "\n",
    "float_Num=input() \n",
    "result=re.match(r'[\\d+\\W]*\\.[\\d]*$',float_Num) \n",
    "\n",
    "if result: \n",
    "    print (True) \n",
    "else: \n",
    "    print(False)"
   ]
  },
  {
   "cell_type": "markdown",
   "id": "d00b710b",
   "metadata": {},
   "source": [
    "#### example1.1"
   ]
  },
  {
   "cell_type": "code",
   "execution_count": 16,
   "id": "cd51bcb7",
   "metadata": {},
   "outputs": [
    {
     "name": "stdout",
     "output_type": "stream",
     "text": [
      "12.\n",
      "False\n"
     ]
    }
   ],
   "source": [
    "import re \n",
    "\n",
    "float_Num=input('') \n",
    "result=re.match(r'[\\d\\W]\\.[\\d]$',float_Num) \n",
    "\n",
    "if result: \n",
    "    print (True) \n",
    "else: \n",
    "    print(False)"
   ]
  },
  {
   "cell_type": "markdown",
   "id": "e0e447e5",
   "metadata": {},
   "source": [
    "#### example1.2"
   ]
  },
  {
   "cell_type": "code",
   "execution_count": 17,
   "id": "f7a4a8e1",
   "metadata": {},
   "outputs": [
    {
     "name": "stdout",
     "output_type": "stream",
     "text": [
      "-.1\n",
      "True\n"
     ]
    }
   ],
   "source": [
    "import re \n",
    "\n",
    "float_Num=input('') \n",
    "result=re.match(r'[\\d\\W]*\\.[\\d]*$',float_Num) \n",
    "\n",
    "if result: \n",
    "    print (True) \n",
    "else: \n",
    "    print(False)"
   ]
  },
  {
   "cell_type": "markdown",
   "id": "122b4256",
   "metadata": {},
   "source": [
    "#### example1.3"
   ]
  },
  {
   "cell_type": "code",
   "execution_count": 18,
   "id": "9703157f",
   "metadata": {},
   "outputs": [
    {
     "name": "stdout",
     "output_type": "stream",
     "text": [
      "+4.4\n",
      "True\n"
     ]
    }
   ],
   "source": [
    "import re \n",
    "\n",
    "float_Num=input('') \n",
    "result=re.match(r'[\\d\\W]*\\.[\\d]*$',float_Num) \n",
    "\n",
    "if result: \n",
    "    print (True) \n",
    "else: \n",
    "    print(False)"
   ]
  },
  {
   "cell_type": "markdown",
   "id": "3dca6106",
   "metadata": {},
   "source": [
    "#### example1.4"
   ]
  },
  {
   "cell_type": "code",
   "execution_count": 19,
   "id": "1cf6205b",
   "metadata": {},
   "outputs": [
    {
     "name": "stdout",
     "output_type": "stream",
     "text": [
      "+4\n",
      "False\n"
     ]
    }
   ],
   "source": [
    "import re \n",
    "\n",
    "float_Num=input('') \n",
    "result=re.match(r'[\\d\\W]*\\.[\\d]*$',float_Num) \n",
    "\n",
    "if result: \n",
    "    print (True) \n",
    "else: \n",
    "    print(False)"
   ]
  },
  {
   "cell_type": "markdown",
   "id": "9f70750c",
   "metadata": {},
   "source": [
    "#### example1.5"
   ]
  },
  {
   "cell_type": "code",
   "execution_count": 20,
   "id": "b431b503",
   "metadata": {},
   "outputs": [
    {
     "name": "stdout",
     "output_type": "stream",
     "text": [
      "+4.4av\n",
      "False\n"
     ]
    }
   ],
   "source": [
    "import re \n",
    "\n",
    "float_Num=input('') \n",
    "result=re.match(r'[\\d\\W]*\\.[\\d]*$',float_Num) \n",
    "\n",
    "if result: \n",
    "    print (True) \n",
    "else: \n",
    "    print(False)"
   ]
  },
  {
   "cell_type": "markdown",
   "id": "9b01d856",
   "metadata": {},
   "source": [
    "#### example1.6"
   ]
  },
  {
   "cell_type": "code",
   "execution_count": 21,
   "id": "874011da",
   "metadata": {},
   "outputs": [
    {
     "name": "stdout",
     "output_type": "stream",
     "text": [
      "+4.4av\n",
      "False\n"
     ]
    }
   ],
   "source": [
    "import re \n",
    "\n",
    "float_Num=input('') \n",
    "result=re.match(r'[\\d\\W]*\\.[\\d]*$',float_Num) \n",
    "\n",
    "if result: \n",
    "    print (True) \n",
    "else: \n",
    "    print(False)"
   ]
  },
  {
   "cell_type": "markdown",
   "id": "8ae7c881",
   "metadata": {},
   "source": [
    "# [or] using bool "
   ]
  },
  {
   "cell_type": "code",
   "execution_count": 1,
   "id": "3d362eb1",
   "metadata": {},
   "outputs": [],
   "source": [
    "import re\n",
    "pattern_1=\"^[+-]?\\d*\\.{1}\\d+$\""
   ]
  },
  {
   "cell_type": "code",
   "execution_count": 2,
   "id": "e80c96eb",
   "metadata": {},
   "outputs": [
    {
     "data": {
      "text/plain": [
       "True"
      ]
     },
     "execution_count": 2,
     "metadata": {},
     "output_type": "execute_result"
    }
   ],
   "source": [
    "bool(re.match(pattern_1,\"12.12\"))"
   ]
  },
  {
   "cell_type": "code",
   "execution_count": 24,
   "id": "e7be0c42",
   "metadata": {},
   "outputs": [
    {
     "data": {
      "text/plain": [
       "False"
      ]
     },
     "execution_count": 24,
     "metadata": {},
     "output_type": "execute_result"
    }
   ],
   "source": [
    "bool(re.match(pattern_1, \"12.\"))"
   ]
  },
  {
   "cell_type": "code",
   "execution_count": 25,
   "id": "2a3f2190",
   "metadata": {},
   "outputs": [
    {
     "data": {
      "text/plain": [
       "True"
      ]
     },
     "execution_count": 25,
     "metadata": {},
     "output_type": "execute_result"
    }
   ],
   "source": [
    "bool(re.match(pattern_1, \".1\"))"
   ]
  },
  {
   "cell_type": "code",
   "execution_count": 26,
   "id": "32e5c92e",
   "metadata": {},
   "outputs": [
    {
     "data": {
      "text/plain": [
       "True"
      ]
     },
     "execution_count": 26,
     "metadata": {},
     "output_type": "execute_result"
    }
   ],
   "source": [
    "bool(re.match(pattern_1, \"-.1\"))"
   ]
  },
  {
   "cell_type": "code",
   "execution_count": 27,
   "id": "4fed0fef",
   "metadata": {},
   "outputs": [
    {
     "data": {
      "text/plain": [
       "True"
      ]
     },
     "execution_count": 27,
     "metadata": {},
     "output_type": "execute_result"
    }
   ],
   "source": [
    "bool(re.match(pattern_1, \"+4.4\"))"
   ]
  },
  {
   "cell_type": "code",
   "execution_count": 28,
   "id": "5ae75a47",
   "metadata": {},
   "outputs": [
    {
     "data": {
      "text/plain": [
       "False"
      ]
     },
     "execution_count": 28,
     "metadata": {},
     "output_type": "execute_result"
    }
   ],
   "source": [
    "bool(re.match(pattern_1, \"+4\"))"
   ]
  },
  {
   "cell_type": "code",
   "execution_count": 29,
   "id": "1cd0ea38",
   "metadata": {},
   "outputs": [
    {
     "data": {
      "text/plain": [
       "False"
      ]
     },
     "execution_count": 29,
     "metadata": {},
     "output_type": "execute_result"
    }
   ],
   "source": [
    "bool(re.match(pattern_1, \"+4.4av\"))"
   ]
  },
  {
   "cell_type": "markdown",
   "id": "34f74d44",
   "metadata": {},
   "source": [
    "## ------------------------------------------------------------------------------------------------------"
   ]
  },
  {
   "cell_type": "markdown",
   "id": "779ea1b3",
   "metadata": {},
   "source": [
    "### ===>RegEx Exercise #2: Existentialism"
   ]
  },
  {
   "cell_type": "code",
   "execution_count": 30,
   "id": "c992765d",
   "metadata": {},
   "outputs": [],
   "source": [
    "import re\n",
    "txt1 = \"\"\n",
    "txt2 = \"This is not an empty string.\"\n",
    "Nothing = '^$' #\"nothing\" that will match only an empty string\n",
    "any_Thing = '^$|.+' #\"anything\" that will match any string empty or not,\n",
    "some_Thing = r'.+'#\"something\" that will match non-empty strings only"
   ]
  },
  {
   "cell_type": "code",
   "execution_count": 31,
   "id": "d13bef6c",
   "metadata": {},
   "outputs": [
    {
     "data": {
      "text/plain": [
       "True"
      ]
     },
     "execution_count": 31,
     "metadata": {},
     "output_type": "execute_result"
    }
   ],
   "source": [
    "bool(re.match(Nothing, txt1)) #\"nothing\" that will match only an empty string"
   ]
  },
  {
   "cell_type": "code",
   "execution_count": 32,
   "id": "68d7d171",
   "metadata": {},
   "outputs": [
    {
     "data": {
      "text/plain": [
       "False"
      ]
     },
     "execution_count": 32,
     "metadata": {},
     "output_type": "execute_result"
    }
   ],
   "source": [
    "bool(re.match(Nothing, txt2))"
   ]
  },
  {
   "cell_type": "code",
   "execution_count": 33,
   "id": "242b8318",
   "metadata": {},
   "outputs": [
    {
     "data": {
      "text/plain": [
       "['']"
      ]
     },
     "execution_count": 33,
     "metadata": {},
     "output_type": "execute_result"
    }
   ],
   "source": [
    "re.findall(Nothing, txt1)"
   ]
  },
  {
   "cell_type": "code",
   "execution_count": 34,
   "id": "2abf7b5c",
   "metadata": {},
   "outputs": [
    {
     "data": {
      "text/plain": [
       "[]"
      ]
     },
     "execution_count": 34,
     "metadata": {},
     "output_type": "execute_result"
    }
   ],
   "source": [
    "re.findall(Nothing, txt2)"
   ]
  },
  {
   "cell_type": "code",
   "execution_count": 35,
   "id": "d0ab4b7e",
   "metadata": {},
   "outputs": [
    {
     "data": {
      "text/plain": [
       "True"
      ]
     },
     "execution_count": 35,
     "metadata": {},
     "output_type": "execute_result"
    }
   ],
   "source": [
    "bool(re.match(any_Thing, txt1)) #\"anything\" that will match any string empty or not,"
   ]
  },
  {
   "cell_type": "code",
   "execution_count": 36,
   "id": "e9c5e9a3",
   "metadata": {},
   "outputs": [
    {
     "data": {
      "text/plain": [
       "True"
      ]
     },
     "execution_count": 36,
     "metadata": {},
     "output_type": "execute_result"
    }
   ],
   "source": [
    "bool(re.match(any_Thing, txt2))"
   ]
  },
  {
   "cell_type": "code",
   "execution_count": 37,
   "id": "fbf4cb8c",
   "metadata": {},
   "outputs": [
    {
     "data": {
      "text/plain": [
       "['']"
      ]
     },
     "execution_count": 37,
     "metadata": {},
     "output_type": "execute_result"
    }
   ],
   "source": [
    "re.findall(any_Thing, txt1)"
   ]
  },
  {
   "cell_type": "code",
   "execution_count": 38,
   "id": "257b6a29",
   "metadata": {},
   "outputs": [
    {
     "data": {
      "text/plain": [
       "['This is not an empty string.']"
      ]
     },
     "execution_count": 38,
     "metadata": {},
     "output_type": "execute_result"
    }
   ],
   "source": [
    "re.findall(any_Thing, txt2)"
   ]
  },
  {
   "cell_type": "code",
   "execution_count": 39,
   "id": "ea895edc",
   "metadata": {},
   "outputs": [
    {
     "data": {
      "text/plain": [
       "False"
      ]
     },
     "execution_count": 39,
     "metadata": {},
     "output_type": "execute_result"
    }
   ],
   "source": [
    "bool(re.match(some_Thing, txt1)) #\"something\" that will match non-empty strings only"
   ]
  },
  {
   "cell_type": "code",
   "execution_count": 40,
   "id": "e3198adb",
   "metadata": {},
   "outputs": [
    {
     "data": {
      "text/plain": [
       "True"
      ]
     },
     "execution_count": 40,
     "metadata": {},
     "output_type": "execute_result"
    }
   ],
   "source": [
    "bool(re.match(some_Thing, txt2))"
   ]
  },
  {
   "cell_type": "code",
   "execution_count": 41,
   "id": "2f2b9fcd",
   "metadata": {},
   "outputs": [
    {
     "data": {
      "text/plain": [
       "[]"
      ]
     },
     "execution_count": 41,
     "metadata": {},
     "output_type": "execute_result"
    }
   ],
   "source": [
    "re.findall(some_Thing, txt1)"
   ]
  },
  {
   "cell_type": "code",
   "execution_count": 42,
   "id": "2350c808",
   "metadata": {},
   "outputs": [
    {
     "data": {
      "text/plain": [
       "['This is not an empty string.']"
      ]
     },
     "execution_count": 42,
     "metadata": {},
     "output_type": "execute_result"
    }
   ],
   "source": [
    "re.findall(some_Thing, txt2)"
   ]
  },
  {
   "cell_type": "markdown",
   "id": "2449a0ac",
   "metadata": {},
   "source": [
    "## ------------------------------------------------------------------------------------------------------"
   ]
  },
  {
   "cell_type": "markdown",
   "id": "47d27a90",
   "metadata": {},
   "source": [
    "### ===>RegEx Exercise #3: Find the Numbers"
   ]
  },
  {
   "cell_type": "code",
   "execution_count": 43,
   "id": "8cd63e93",
   "metadata": {},
   "outputs": [
    {
     "name": "stdout",
     "output_type": "stream",
     "text": [
      "\" 123.456 2 +7 -88 -.25 9.10.11 -4. +-34 -0.6 --5 \"\n"
     ]
    }
   ],
   "source": [
    "import re \n",
    "\n",
    "Numbers=input('') \n",
    "int_Num=re.findall(r'(?<=\\s)[+-]{,1}\\d+(?=\\s)',Numbers)\n",
    "Float_Num=re.findall(r'(?<=\\s)[+-]{,1}\\d*\\.\\d+(?=\\s)',Numbers)\n",
    "positive_Num=re.findall(r'(?<=\\s)\\+{,1}\\d*\\.*\\d+(?=\\s)',Numbers)\n",
    "negative_Num=re.findall(r'(?<=\\s)\\-\\d*\\.*\\d+(?=\\s)',Numbers)\n",
    "all_Numbers=re.findall(r'(?<=\\s)[+-]{,1}\\d*\\.*\\d+(?=\\s)',Numbers)"
   ]
  },
  {
   "cell_type": "code",
   "execution_count": 44,
   "id": "daf0d466",
   "metadata": {},
   "outputs": [
    {
     "data": {
      "text/plain": [
       "['2', '+7', '-88']"
      ]
     },
     "execution_count": 44,
     "metadata": {},
     "output_type": "execute_result"
    }
   ],
   "source": [
    "int_Num #all whole numbers, positive or negative"
   ]
  },
  {
   "cell_type": "code",
   "execution_count": 45,
   "id": "f8dcd6ad",
   "metadata": {},
   "outputs": [
    {
     "data": {
      "text/plain": [
       "['123.456', '-.25', '-0.6']"
      ]
     },
     "execution_count": 45,
     "metadata": {},
     "output_type": "execute_result"
    }
   ],
   "source": [
    "Float_Num #floats that will match all decimal numbers, positive or negative."
   ]
  },
  {
   "cell_type": "code",
   "execution_count": 46,
   "id": "4a58aab9",
   "metadata": {},
   "outputs": [
    {
     "data": {
      "text/plain": [
       "['123.456', '2', '+7']"
      ]
     },
     "execution_count": 46,
     "metadata": {},
     "output_type": "execute_result"
    }
   ],
   "source": [
    "positive_Num #positive that will match all positive numbers, whole or decimal"
   ]
  },
  {
   "cell_type": "code",
   "execution_count": 47,
   "id": "cb83a10f",
   "metadata": {},
   "outputs": [
    {
     "data": {
      "text/plain": [
       "['-88', '-.25', '-0.6']"
      ]
     },
     "execution_count": 47,
     "metadata": {},
     "output_type": "execute_result"
    }
   ],
   "source": [
    "negative_Num #negative that will match all negative numbers, whole or decimal."
   ]
  },
  {
   "cell_type": "code",
   "execution_count": 48,
   "id": "b6e591f7",
   "metadata": {},
   "outputs": [
    {
     "data": {
      "text/plain": [
       "['123.456', '2', '+7', '-88', '-.25', '-0.6']"
      ]
     },
     "execution_count": 48,
     "metadata": {},
     "output_type": "execute_result"
    }
   ],
   "source": [
    "all_Numbers #numbers that will match all numbers, whole or decimal, positive or negative.\n"
   ]
  },
  {
   "cell_type": "markdown",
   "id": "84f365da",
   "metadata": {},
   "source": [
    "## ------------------------------------------------------------------------------------------------------"
   ]
  },
  {
   "cell_type": "markdown",
   "id": "156f786a",
   "metadata": {},
   "source": [
    "## ===>RegEx Exercise #4: Find the Times"
   ]
  },
  {
   "cell_type": "code",
   "execution_count": 49,
   "id": "2e75cd32",
   "metadata": {},
   "outputs": [],
   "source": [
    "import re\n",
    "\n",
    "pattern = r\"\\s([0-2][0-9](?:\\:[0-5][0-9]){1,2})\\b(?!\\:)\"\n",
    "txt_1 = \"Breakfast at 09:00 in the room 123:456.\"\n",
    "txt_2 = \"The incident took place last Wednesday at 00:56:41.\"\n",
    "txt_3 = \"We will have two meetings: from 10:30 to 11:00 and from 11:45 to 11:75.\"\n"
   ]
  },
  {
   "cell_type": "code",
   "execution_count": 50,
   "id": "d8fcd1f7",
   "metadata": {},
   "outputs": [
    {
     "data": {
      "text/plain": [
       "['09:00']"
      ]
     },
     "execution_count": 50,
     "metadata": {},
     "output_type": "execute_result"
    }
   ],
   "source": [
    "re.findall(pattern, txt_1)"
   ]
  },
  {
   "cell_type": "code",
   "execution_count": 51,
   "id": "398ec96d",
   "metadata": {},
   "outputs": [
    {
     "data": {
      "text/plain": [
       "['00:56:41']"
      ]
     },
     "execution_count": 51,
     "metadata": {},
     "output_type": "execute_result"
    }
   ],
   "source": [
    "re.findall(pattern, txt_2)"
   ]
  },
  {
   "cell_type": "code",
   "execution_count": 52,
   "id": "f8d25a80",
   "metadata": {},
   "outputs": [
    {
     "data": {
      "text/plain": [
       "['10:30', '11:00', '11:45']"
      ]
     },
     "execution_count": 52,
     "metadata": {},
     "output_type": "execute_result"
    }
   ],
   "source": [
    "re.findall(pattern, txt_3)"
   ]
  },
  {
   "cell_type": "markdown",
   "id": "669383c5",
   "metadata": {},
   "source": [
    "## ------------------------------------------------------------------------------------------------------"
   ]
  },
  {
   "cell_type": "markdown",
   "id": "124551cd",
   "metadata": {},
   "source": [
    "### ===>RegEx Exercise #5: Distinct Digits"
   ]
  },
  {
   "cell_type": "code",
   "execution_count": 53,
   "id": "3a89dff0",
   "metadata": {},
   "outputs": [],
   "source": [
    "import re\n",
    "pattern = r'^(?!.*(.).*\\1)\\d*$' #matches numbers whose digits are not repeated "
   ]
  },
  {
   "cell_type": "code",
   "execution_count": 54,
   "id": "13f223a1",
   "metadata": {},
   "outputs": [
    {
     "data": {
      "text/plain": [
       "True"
      ]
     },
     "execution_count": 54,
     "metadata": {},
     "output_type": "execute_result"
    }
   ],
   "source": [
    "bool(re.match(pattern, \"123\"))"
   ]
  },
  {
   "cell_type": "code",
   "execution_count": 55,
   "id": "c929d5ad",
   "metadata": {},
   "outputs": [
    {
     "data": {
      "text/plain": [
       "False"
      ]
     },
     "execution_count": 55,
     "metadata": {},
     "output_type": "execute_result"
    }
   ],
   "source": [
    "bool(re.match(pattern, \"112233\"))# 123 are repeated so it is not a distinct digit\n"
   ]
  },
  {
   "cell_type": "code",
   "execution_count": 56,
   "id": "9f695b72",
   "metadata": {},
   "outputs": [
    {
     "data": {
      "text/plain": [
       "True"
      ]
     },
     "execution_count": 56,
     "metadata": {},
     "output_type": "execute_result"
    }
   ],
   "source": [
    "bool(re.match(pattern, \"1025\"))"
   ]
  },
  {
   "cell_type": "markdown",
   "id": "fecfefa9",
   "metadata": {},
   "source": [
    "## --------------------------------------------THE END---------------------------------------------"
   ]
  }
 ],
 "metadata": {
  "kernelspec": {
   "display_name": "Python 3 (ipykernel)",
   "language": "python",
   "name": "python3"
  },
  "language_info": {
   "codemirror_mode": {
    "name": "ipython",
    "version": 3
   },
   "file_extension": ".py",
   "mimetype": "text/x-python",
   "name": "python",
   "nbconvert_exporter": "python",
   "pygments_lexer": "ipython3",
   "version": "3.8.10"
  }
 },
 "nbformat": 4,
 "nbformat_minor": 5
}

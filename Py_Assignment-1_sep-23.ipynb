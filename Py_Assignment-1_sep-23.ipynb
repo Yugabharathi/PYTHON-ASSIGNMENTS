{
 "cells": [
  {
   "cell_type": "code",
   "execution_count": 1,
   "id": "92aa8416",
   "metadata": {},
   "outputs": [],
   "source": []
  },
  {
   "cell_type": "code",
   "execution_count": 6,
   "id": "a039f155",
   "metadata": {},
   "outputs": [],
   "source": [
    "#2\n",
    "def numbers(x,y):\n",
    "    list1=[]\n",
    "    for i in range(x,y):\n",
    "        if i%2==0:\n",
    "            list1.append(i)\n",
    "    print(len(list1))"
   ]
  },
  {
   "cell_type": "code",
   "execution_count": 2,
   "id": "77bb261c",
   "metadata": {},
   "outputs": [
    {
     "name": "stdout",
     "output_type": "stream",
     "text": [
      "enter the number0\n",
      "enter the number200\n",
      "100\n"
     ]
    }
   ],
   "source": [
    "numbers(x=int(input(\"enter the number\")),y=int(input(\"enter the number\")))"
   ]
  },
  {
   "cell_type": "code",
   "execution_count": 3,
   "id": "671c65a6",
   "metadata": {},
   "outputs": [],
   "source": [
    "#3\n",
    "import math\n",
    "def factorials(n):\n",
    "    a=[]\n",
    "    for i in range(n,0,-1):\n",
    "        a.append(i)\n",
    "    b=[]\n",
    "    for i in a:\n",
    "        df=math.factorial(i)\n",
    "        b.append(df)\n",
    "    cv=1\n",
    "    for i in b:\n",
    "        cv *= i\n",
    "    return cv"
   ]
  },
  {
   "cell_type": "code",
   "execution_count": 4,
   "id": "bd45b024",
   "metadata": {},
   "outputs": [
    {
     "data": {
      "text/plain": [
       "288"
      ]
     },
     "execution_count": 4,
     "metadata": {},
     "output_type": "execute_result"
    }
   ],
   "source": [
    "factorials(4)"
   ]
  },
  {
   "cell_type": "code",
   "execution_count": null,
   "id": "429fdc0d",
   "metadata": {},
   "outputs": [],
   "source": []
  },
  {
   "cell_type": "code",
   "execution_count": null,
   "id": "1159d369",
   "metadata": {},
   "outputs": [],
   "source": []
  },
  {
   "cell_type": "code",
   "execution_count": 5,
   "id": "f9c7754a",
   "metadata": {},
   "outputs": [
    {
     "name": "stdout",
     "output_type": "stream",
     "text": [
      "enter the number25\n",
      "enter the number8\n",
      "sum of a and b 33\n",
      "difference of a and b 17\n",
      "multiplication of a and b 200\n",
      "division of a and b 3\n"
     ]
    }
   ],
   "source": [
    "#5\n",
    "def num(a,b):\n",
    "    print(\"sum of a and b\",a+b)\n",
    "    print(\"difference of a and b\",a-b)\n",
    "    print(\"multiplication of a and b\",a*b)\n",
    "    if b==0:\n",
    "        print(-1)\n",
    "    else:\n",
    "        print(\"division of a and b\",a//b)\n",
    "num(a=int(input(\"enter the number\")),b=int(input(\"enter the number\")))"
   ]
  },
  {
   "cell_type": "code",
   "execution_count": null,
   "id": "63c932be",
   "metadata": {},
   "outputs": [],
   "source": []
  },
  {
   "cell_type": "code",
   "execution_count": null,
   "id": "c96c4d6b",
   "metadata": {},
   "outputs": [],
   "source": []
  },
  {
   "cell_type": "code",
   "execution_count": 1,
   "id": "8e69dbcf",
   "metadata": {},
   "outputs": [],
   "source": [
    "#1\n",
    "def binary(num):\n",
    "    b_num = bin(num)\n",
    "    b_list = list(b_num)\n",
    "    b_list = b_list[2:]\n",
    "    l = []\n",
    "    for i in b_list:\n",
    "        l.append(int(i))\n",
    "    print(l)\n",
    "    length = len(l)\n",
    "        \n",
    "      \n",
    "    \n",
    "    count = 0\n",
    "    res = 0\n",
    "    for j in range(length):\n",
    "        if l[j] == 1:\n",
    "            count = 0\n",
    "\n",
    "        else:\n",
    "            count = count + 1\n",
    "            #print(count)\n",
    "            res = max(res,count)\n",
    "    print(res)\n",
    "    "
   ]
  },
  {
   "cell_type": "code",
   "execution_count": 2,
   "id": "88ce6cf8",
   "metadata": {},
   "outputs": [
    {
     "data": {
      "text/plain": [
       "'0b1110101100110'"
      ]
     },
     "execution_count": 2,
     "metadata": {},
     "output_type": "execute_result"
    }
   ],
   "source": [
    "bin(7526)"
   ]
  },
  {
   "cell_type": "code",
   "execution_count": 44,
   "id": "4f8915eb",
   "metadata": {},
   "outputs": [
    {
     "name": "stdout",
     "output_type": "stream",
     "text": [
      "[1, 1, 1, 0, 1, 0, 1, 1, 0, 0, 1, 1, 0]\n",
      "2\n"
     ]
    }
   ],
   "source": [
    "binary(7526)"
   ]
  },
  {
   "cell_type": "code",
   "execution_count": 50,
   "id": "e795ba4b",
   "metadata": {},
   "outputs": [],
   "source": [
    "#4\n",
    "from itertools import permutations\n",
    "\n",
    "def mutations(x,y):\n",
    "    perm = permutations([2, 3])\n",
    "    for i in list(perm):\n",
    "        print(i)\n",
    "\n",
    "def next_mutations(x,y,z):\n",
    "    perm = permutations([3,7,4])\n",
    "    for i in list(perm):\n",
    "        print(i)\n",
    "\n",
    "def third_mutations(a,b,c,d):\n",
    "    perm = permutations([2,3,4,5])\n",
    "    for i in list(perm):\n",
    "        print()"
   ]
  },
  {
   "cell_type": "code",
   "execution_count": 51,
   "id": "8cf2de4d",
   "metadata": {},
   "outputs": [
    {
     "name": "stdout",
     "output_type": "stream",
     "text": [
      "(2, 3)\n",
      "(3, 2)\n",
      "(3, 7, 4)\n",
      "(3, 4, 7)\n",
      "(7, 3, 4)\n",
      "(7, 4, 3)\n",
      "(4, 3, 7)\n",
      "(4, 7, 3)\n",
      "\n",
      "\n",
      "\n",
      "\n",
      "\n",
      "\n",
      "\n",
      "\n",
      "\n",
      "\n",
      "\n",
      "\n",
      "\n",
      "\n",
      "\n",
      "\n",
      "\n",
      "\n",
      "\n",
      "\n",
      "\n",
      "\n",
      "\n",
      "\n"
     ]
    }
   ],
   "source": [
    "mutations(2,3)\n",
    "next_mutations(3,7,4)\n",
    "third_mutations(2,3,4,5)\n",
    "\n"
   ]
  },
  {
   "cell_type": "code",
   "execution_count": null,
   "id": "5d0d0c70",
   "metadata": {},
   "outputs": [],
   "source": []
  }
 ],
 "metadata": {
  "kernelspec": {
   "display_name": "Python 3 (ipykernel)",
   "language": "python",
   "name": "python3"
  },
  "language_info": {
   "codemirror_mode": {
    "name": "ipython",
    "version": 3
   },
   "file_extension": ".py",
   "mimetype": "text/x-python",
   "name": "python",
   "nbconvert_exporter": "python",
   "pygments_lexer": "ipython3",
   "version": "3.8.10"
  }
 },
 "nbformat": 4,
 "nbformat_minor": 5
}

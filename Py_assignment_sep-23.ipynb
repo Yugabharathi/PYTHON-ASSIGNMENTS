{
 "cells": [
  {
   "cell_type": "code",
   "execution_count": 1,
   "id": "a68d897f",
   "metadata": {},
   "outputs": [
    {
     "name": "stdout",
     "output_type": "stream",
     "text": [
      "Collecting pandas\n",
      "  Downloading pandas-1.3.3-cp38-cp38-manylinux_2_17_x86_64.manylinux2014_x86_64.whl (11.5 MB)\n",
      "\u001b[K     |████████████████████████████████| 11.5 MB 6.8 MB/s eta 0:00:01\n",
      "\u001b[?25hCollecting pytz>=2017.3\n",
      "  Downloading pytz-2021.1-py2.py3-none-any.whl (510 kB)\n",
      "\u001b[K     |████████████████████████████████| 510 kB 6.2 MB/s eta 0:00:01\n",
      "\u001b[?25hCollecting numpy>=1.17.3\n",
      "  Downloading numpy-1.21.2-cp38-cp38-manylinux_2_12_x86_64.manylinux2010_x86_64.whl (15.8 MB)\n",
      "\u001b[K     |████████████████████████████████| 15.8 MB 19 kB/s  eta 0:00:01\n",
      "\u001b[?25hRequirement already satisfied: python-dateutil>=2.7.3 in ./cde_venv/lib/python3.8/site-packages (from pandas) (2.8.2)\n",
      "Requirement already satisfied: six>=1.5 in ./cde_venv/lib/python3.8/site-packages (from python-dateutil>=2.7.3->pandas) (1.16.0)\n",
      "Installing collected packages: pytz, numpy, pandas\n",
      "Successfully installed numpy-1.21.2 pandas-1.3.3 pytz-2021.1\n",
      "Note: you may need to restart the kernel to use updated packages.\n"
     ]
    }
   ],
   "source": [
    "pip install pandas\n"
   ]
  },
  {
   "cell_type": "code",
   "execution_count": 2,
   "id": "807f9b8e",
   "metadata": {},
   "outputs": [],
   "source": [
    "import pandas"
   ]
  },
  {
   "cell_type": "code",
   "execution_count": 3,
   "id": "530844e3",
   "metadata": {},
   "outputs": [],
   "source": [
    "import numpy"
   ]
  },
  {
   "cell_type": "code",
   "execution_count": 4,
   "id": "ff0bad35",
   "metadata": {},
   "outputs": [],
   "source": [
    "import pytz"
   ]
  },
  {
   "cell_type": "code",
   "execution_count": 38,
   "id": "4a2d285c",
   "metadata": {},
   "outputs": [],
   "source": [
    "a = 2\n",
    "b = 3\n",
    "c = 4\n",
    "d = 5\n",
    "e = 6\n",
    "    "
   ]
  },
  {
   "cell_type": "code",
   "execution_count": 39,
   "id": "7bc49a32",
   "metadata": {},
   "outputs": [
    {
     "name": "stdout",
     "output_type": "stream",
     "text": [
      "6\n"
     ]
    }
   ],
   "source": [
    "def aws(num1,num2):\n",
    "    return num1*num2\n",
    "\n",
    "print(aws(2,3))"
   ]
  },
  {
   "cell_type": "code",
   "execution_count": 7,
   "id": "a68b247e",
   "metadata": {},
   "outputs": [],
   "source": [
    "import math"
   ]
  },
  {
   "cell_type": "code",
   "execution_count": 52,
   "id": "f08d8b20",
   "metadata": {},
   "outputs": [],
   "source": [
    "def factorials(n):\n",
    "    a=[]\n",
    "    for i in range(n,0,-1):\n",
    "        a.append(i)\n",
    "    b=[]\n",
    "    for j in a:\n",
    "        df=math.factorial(j)\n",
    "        b.append(df)\n",
    "    cv=1\n",
    "    for k in b:\n",
    "        cv=cv*k\n",
    "    return cv\n",
    "        \n",
    "        "
   ]
  },
  {
   "cell_type": "code",
   "execution_count": 53,
   "id": "4ab7aaa7",
   "metadata": {},
   "outputs": [
    {
     "name": "stdout",
     "output_type": "stream",
     "text": [
      "288\n"
     ]
    }
   ],
   "source": [
    "print(factorials(4))"
   ]
  },
  {
   "cell_type": "code",
   "execution_count": 60,
   "id": "5e7a28ee",
   "metadata": {},
   "outputs": [
    {
     "data": {
      "text/plain": [
       "'0b10011100111001'"
      ]
     },
     "execution_count": 60,
     "metadata": {},
     "output_type": "execute_result"
    }
   ],
   "source": [
    "bin(10041)"
   ]
  },
  {
   "cell_type": "code",
   "execution_count": 51,
   "id": "772dde4d",
   "metadata": {},
   "outputs": [
    {
     "name": "stdout",
     "output_type": "stream",
     "text": [
      "5\n",
      "-1\n",
      "6\n",
      "0.6666666666666666\n",
      "0b10\n",
      "0b11\n",
      "0b100\n"
     ]
    },
    {
     "ename": "AttributeError",
     "evalue": "'int' object has no attribute 'count'",
     "output_type": "error",
     "traceback": [
      "\u001b[0;31m---------------------------------------------------------------------------\u001b[0m",
      "\u001b[0;31mAttributeError\u001b[0m                            Traceback (most recent call last)",
      "\u001b[0;32m/tmp/ipykernel_76809/3894577447.py\u001b[0m in \u001b[0;36m<module>\u001b[0;34m\u001b[0m\n\u001b[1;32m     13\u001b[0m \u001b[0;34m\u001b[0m\u001b[0m\n\u001b[1;32m     14\u001b[0m \u001b[0;34m\u001b[0m\u001b[0m\n\u001b[0;32m---> 15\u001b[0;31m \u001b[0maddition\u001b[0m\u001b[0;34m(\u001b[0m\u001b[0;36m2\u001b[0m\u001b[0;34m,\u001b[0m\u001b[0;36m3\u001b[0m\u001b[0;34m)\u001b[0m\u001b[0;34m\u001b[0m\u001b[0;34m\u001b[0m\u001b[0m\n\u001b[0m\u001b[1;32m     16\u001b[0m \u001b[0maddition\u001b[0m\u001b[0;34m(\u001b[0m\u001b[0;36m25\u001b[0m\u001b[0;34m,\u001b[0m\u001b[0;36m35\u001b[0m\u001b[0;34m)\u001b[0m\u001b[0;34m\u001b[0m\u001b[0;34m\u001b[0m\u001b[0m\n",
      "\u001b[0;32m/tmp/ipykernel_76809/3894577447.py\u001b[0m in \u001b[0;36maddition\u001b[0;34m(a, b)\u001b[0m\n\u001b[1;32m      8\u001b[0m     \u001b[0mprint\u001b[0m\u001b[0;34m(\u001b[0m\u001b[0mbin\u001b[0m\u001b[0;34m(\u001b[0m\u001b[0mb\u001b[0m\u001b[0;34m)\u001b[0m\u001b[0;34m)\u001b[0m\u001b[0;34m\u001b[0m\u001b[0;34m\u001b[0m\u001b[0m\n\u001b[1;32m      9\u001b[0m     \u001b[0mprint\u001b[0m\u001b[0;34m(\u001b[0m\u001b[0mbin\u001b[0m\u001b[0;34m(\u001b[0m\u001b[0mc\u001b[0m\u001b[0;34m)\u001b[0m\u001b[0;34m)\u001b[0m\u001b[0;34m\u001b[0m\u001b[0;34m\u001b[0m\u001b[0m\n\u001b[0;32m---> 10\u001b[0;31m     \u001b[0mprint\u001b[0m\u001b[0;34m(\u001b[0m\u001b[0ma\u001b[0m\u001b[0;34m.\u001b[0m\u001b[0mcount\u001b[0m\u001b[0;34m)\u001b[0m\u001b[0;34m\u001b[0m\u001b[0;34m\u001b[0m\u001b[0m\n\u001b[0m\u001b[1;32m     11\u001b[0m \u001b[0;34m\u001b[0m\u001b[0m\n\u001b[1;32m     12\u001b[0m \u001b[0;34m\u001b[0m\u001b[0m\n",
      "\u001b[0;31mAttributeError\u001b[0m: 'int' object has no attribute 'count'"
     ]
    }
   ],
   "source": [
    "def addition(a,b):\n",
    "    print(a+b)\n",
    "    print(a-b)\n",
    "    print(a*b)\n",
    "    print(a/b)\n",
    "    print(bin(a))\n",
    "    print(bin(b))\n",
    "    print(bin(c))\n",
    "    print(a.count)\n",
    "\n",
    "    \n",
    "\n",
    "    \n",
    "addition(2,3)\n",
    "addition(25,35)"
   ]
  },
  {
   "cell_type": "code",
   "execution_count": 66,
   "id": "1f16b7c1",
   "metadata": {},
   "outputs": [],
   "source": [
    "def number(a):\n",
    "    x=bin(a)\n",
    "    print(x)"
   ]
  },
  {
   "cell_type": "code",
   "execution_count": 67,
   "id": "4b205ee3",
   "metadata": {},
   "outputs": [
    {
     "name": "stdout",
     "output_type": "stream",
     "text": [
      "0b10111\n"
     ]
    }
   ],
   "source": [
    "number(23)"
   ]
  },
  {
   "cell_type": "code",
   "execution_count": 68,
   "id": "dad85f9e",
   "metadata": {},
   "outputs": [],
   "source": [
    "l=[\"apple\",\"orange\",\"graphs\",\"pineapple\"]"
   ]
  },
  {
   "cell_type": "code",
   "execution_count": 69,
   "id": "cc1903c4",
   "metadata": {},
   "outputs": [
    {
     "data": {
      "text/plain": [
       "['apple', 'orange', 'graphs', 'pineapple']"
      ]
     },
     "execution_count": 69,
     "metadata": {},
     "output_type": "execute_result"
    }
   ],
   "source": [
    "l"
   ]
  },
  {
   "cell_type": "code",
   "execution_count": 73,
   "id": "99ba8833",
   "metadata": {},
   "outputs": [
    {
     "data": {
      "text/plain": [
       "['orange']"
      ]
     },
     "execution_count": 73,
     "metadata": {},
     "output_type": "execute_result"
    }
   ],
   "source": [
    "l[1:3]"
   ]
  },
  {
   "cell_type": "code",
   "execution_count": 74,
   "id": "c545fcd4",
   "metadata": {},
   "outputs": [
    {
     "name": "stdout",
     "output_type": "stream",
     "text": [
      "one,two,three,four\n"
     ]
    },
    {
     "data": {
      "text/plain": [
       "str"
      ]
     },
     "execution_count": 74,
     "metadata": {},
     "output_type": "execute_result"
    }
   ],
   "source": [
    "str1=(\"one,two,three,four\")\n",
    "print(str1)\n",
    "type(str1)"
   ]
  },
  {
   "cell_type": "code",
   "execution_count": 76,
   "id": "aa1da3c2",
   "metadata": {},
   "outputs": [
    {
     "name": "stdout",
     "output_type": "stream",
     "text": [
      "that plant fellow\n"
     ]
    }
   ],
   "source": [
    "s1='that girl fellow'\n",
    "s2='girl'\n",
    "s3='plant'\n",
    "s4=s1.replace(s2,s3)\n",
    "print(s4)"
   ]
  },
  {
   "cell_type": "code",
   "execution_count": 2,
   "id": "b974f3af",
   "metadata": {},
   "outputs": [
    {
     "name": "stdout",
     "output_type": "stream",
     "text": [
      "even\n"
     ]
    }
   ],
   "source": [
    "def even_odd(a):\n",
    "    if a%2!=0:\n",
    "        print (\"even\")\n",
    "    else:\n",
    "        print (\"odd\")\n",
    "        \n",
    "even_odd(1)\n",
    "           \n",
    "    \n"
   ]
  },
  {
   "cell_type": "code",
   "execution_count": 8,
   "id": "5985a3d8",
   "metadata": {},
   "outputs": [
    {
     "name": "stdout",
     "output_type": "stream",
     "text": [
      "enter the num   :5\n",
      "odd\n"
     ]
    }
   ],
   "source": [
    "a=int(input(\"enter the num   :\"))\n",
    "if i%2==0:\n",
    "    print(\"even\")\n",
    "else:\n",
    "    print(\"odd\")"
   ]
  },
  {
   "cell_type": "code",
   "execution_count": 11,
   "id": "2ee9a911",
   "metadata": {},
   "outputs": [
    {
     "name": "stdout",
     "output_type": "stream",
     "text": [
      "enter ur name    :vijay\n"
     ]
    }
   ],
   "source": [
    "a=input(\"enter ur name    :\")"
   ]
  },
  {
   "cell_type": "code",
   "execution_count": 12,
   "id": "891c4215",
   "metadata": {},
   "outputs": [
    {
     "name": "stdout",
     "output_type": "stream",
     "text": [
      "zero\n"
     ]
    }
   ],
   "source": [
    "if a==\"yuga\":\n",
    "    print(\"hello\")\n",
    "else:\n",
    "    print(\"zero\")"
   ]
  },
  {
   "cell_type": "code",
   "execution_count": 18,
   "id": "ab0bd240",
   "metadata": {},
   "outputs": [
    {
     "name": "stdout",
     "output_type": "stream",
     "text": [
      "enter the num  :500\n",
      "enter the num2  :2\n"
     ]
    }
   ],
   "source": [
    "a=int(input(\"enter the num  :\"))\n",
    "b=int(input(\"enter the num2  :\"))\n"
   ]
  },
  {
   "cell_type": "code",
   "execution_count": 20,
   "id": "e3ad2a48",
   "metadata": {},
   "outputs": [
    {
     "name": "stdout",
     "output_type": "stream",
     "text": [
      "502\n"
     ]
    }
   ],
   "source": [
    "if a*b>=1000:\n",
    "    print(a+b)\n",
    "else:\n",
    "    print(\"zero\")"
   ]
  },
  {
   "cell_type": "code",
   "execution_count": 21,
   "id": "1ae7ffd7",
   "metadata": {},
   "outputs": [
    {
     "name": "stdout",
     "output_type": "stream",
     "text": [
      "enter the name1 :yuga\n",
      "enter last name2 :bharathi\n"
     ]
    }
   ],
   "source": [
    "a=input(\"enter the name1 :\")\n",
    "b=input(\"enter last name2 :\")\n"
   ]
  },
  {
   "cell_type": "code",
   "execution_count": 22,
   "id": "0462f070",
   "metadata": {},
   "outputs": [
    {
     "name": "stdout",
     "output_type": "stream",
     "text": [
      "bharathi yuga\n"
     ]
    }
   ],
   "source": [
    "print(b,a)"
   ]
  },
  {
   "cell_type": "code",
   "execution_count": 25,
   "id": "7386e9ca",
   "metadata": {},
   "outputs": [
    {
     "name": "stdout",
     "output_type": "stream",
     "text": [
      "enter radius :2\n"
     ]
    }
   ],
   "source": [
    "a=int(input(\"enter radius :\"))"
   ]
  },
  {
   "cell_type": "code",
   "execution_count": 26,
   "id": "f33eb0e8",
   "metadata": {},
   "outputs": [
    {
     "name": "stdout",
     "output_type": "stream",
     "text": [
      "25.12\n"
     ]
    }
   ],
   "source": [
    "b=2*3.14*a*a\n",
    "print(b)"
   ]
  },
  {
   "cell_type": "code",
   "execution_count": 37,
   "id": "8889b45e",
   "metadata": {},
   "outputs": [
    {
     "name": "stdout",
     "output_type": "stream",
     "text": [
      "[1, 3, 3, 1]\n"
     ]
    }
   ],
   "source": [
    "a=[0,1,3,2,3,1]\n",
    "count=0\n",
    "list1 = []\n",
    "for i in a:\n",
    "    if a.count(i) > 1:\n",
    "        list1.append(i)\n",
    "print(list1)    "
   ]
  },
  {
   "cell_type": "code",
   "execution_count": null,
   "id": "1e144f1b",
   "metadata": {},
   "outputs": [],
   "source": []
  }
 ],
 "metadata": {
  "kernelspec": {
   "display_name": "Python 3 (ipykernel)",
   "language": "python",
   "name": "python3"
  },
  "language_info": {
   "codemirror_mode": {
    "name": "ipython",
    "version": 3
   },
   "file_extension": ".py",
   "mimetype": "text/x-python",
   "name": "python",
   "nbconvert_exporter": "python",
   "pygments_lexer": "ipython3",
   "version": "3.8.10"
  }
 },
 "nbformat": 4,
 "nbformat_minor": 5
}

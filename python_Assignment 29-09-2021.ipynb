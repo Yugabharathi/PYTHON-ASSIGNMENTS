{
 "cells": [
  {
   "cell_type": "markdown",
   "id": "fc2fed37",
   "metadata": {},
   "source": [
    "### 3) longest word"
   ]
  },
  {
   "cell_type": "code",
   "execution_count": 12,
   "id": "0d69d246",
   "metadata": {},
   "outputs": [
    {
     "name": "stdout",
     "output_type": "stream",
     "text": [
      "(11, 'perpetually')\n"
     ]
    }
   ],
   "source": [
    "def longest(a):\n",
    "    df=[]\n",
    "    cv=[]\n",
    "    dic={}\n",
    "    for i in a.split(\" \"):\n",
    "        df.append(len(i))\n",
    "        cv.append(i)\n",
    "    for j,k in zip(df,cv):\n",
    "        dic[j] = k\n",
    "    print(max(dic.items()))\n",
    "longest(\"I will and ever will be gratefully and perpetually loving you Tesh!\")\n"
   ]
  },
  {
   "cell_type": "markdown",
   "id": "7dfb94ee",
   "metadata": {},
   "source": [
    "### 14) sublist"
   ]
  },
  {
   "cell_type": "code",
   "execution_count": 69,
   "id": "cdee0872",
   "metadata": {},
   "outputs": [],
   "source": [
    "def deepest(l):\n",
    "    depths = []\n",
    "    for item in l:\n",
    "        if isinstance(item,list):\n",
    "            depths.append(deepest(item))\n",
    "    if len(depths) > 0:\n",
    "         return 1 + max(depths)\n",
    "    return 1"
   ]
  },
  {
   "cell_type": "code",
   "execution_count": 74,
   "id": "eb1d2b15",
   "metadata": {},
   "outputs": [
    {
     "data": {
      "text/plain": [
       "8"
      ]
     },
     "execution_count": 74,
     "metadata": {},
     "output_type": "execute_result"
    }
   ],
   "source": [
    "deepest([[[[[[[[1]]]]]]]])"
   ]
  },
  {
   "cell_type": "markdown",
   "id": "c7006de4",
   "metadata": {},
   "source": [
    "### 4) pizza "
   ]
  },
  {
   "cell_type": "code",
   "execution_count": 59,
   "id": "94c937c4",
   "metadata": {},
   "outputs": [
    {
     "name": "stdout",
     "output_type": "stream",
     "text": [
      "['spinach', 'olives', 'mushroom']\n",
      "['cheese', 'beef', 'sausage']\n",
      "2\n"
     ]
    }
   ],
   "source": [
    "class Pizza():\n",
    "    order_num = 0\n",
    "\n",
    "    def __init__(self, ingredients):\n",
    "        Pizza.order_num += 1\n",
    "        self.order_number = Pizza.order_num\n",
    "        self.ingredients = ingredients\n",
    "        self.pizza_type = \", \".join(ingredients)\n",
    "        self.ready_made_pizza = {\n",
    "            \"hawaiian\": [\"ham\", \"pineapple\"],\n",
    "            \"meat_festival\": [\"beef\", \"meatball\", \"bacon\"],\n",
    "            \"garden_feast\":[\"spinach\", \"olives\", \"mushroom\"]\n",
    "            }\n",
    "        for key in self.ready_made_pizza:\n",
    "            if self.ingredients == self.ready_made_pizza[key]:\n",
    "                self.pizza_type = key\n",
    "p1 = Pizza([\"spinach\", \"olives\", \"mushroom\"])\n",
    "p2 = Pizza([\"cheese\", \"beef\", \"sausage\"])\n",
    "p3 = Pizza([\"beef\", \"meatball\", \"bacon\"])\n",
    "\n",
    "print(p1.ingredients)\n",
    "print(p2.ingredients)\n",
    "print(p2.order_number)\n"
   ]
  },
  {
   "cell_type": "markdown",
   "id": "684e8acf",
   "metadata": {},
   "source": [
    "### 5)shuffle_count"
   ]
  },
  {
   "cell_type": "code",
   "execution_count": 68,
   "id": "69c8596a",
   "metadata": {},
   "outputs": [
    {
     "name": "stdout",
     "output_type": "stream",
     "text": [
      "Length of the deck of cards | Perfect shuffles needed to obtain the same deck back\n",
      "8 | 3\n",
      "14 | 12\n",
      "52 | 8\n"
     ]
    }
   ],
   "source": [
    "import doctest\n",
    "import random\n",
    " \n",
    "def flatten(lst):\n",
    "    \"\"\"\n",
    "    >>> flatten([[3,2],[1,2]])\n",
    "    [3, 2, 1, 2]\n",
    "    \"\"\"\n",
    "    return [i for sublst in lst for i in sublst]\n",
    " \n",
    "def magic_shuffle(deck):\n",
    "    \"\"\"\n",
    "    >>> magic_shuffle([1,2,3,4])\n",
    "    [1, 3, 2, 4]\n",
    "    \"\"\"\n",
    "    half = len(deck) // 2 \n",
    "    return flatten(zip(deck[:half], deck[half:]))\n",
    " \n",
    "def after_how_many_is_equal(shuffle_type,start,end):\n",
    "    \"\"\"\n",
    "    >>> after_how_many_is_equal(magic_shuffle,[1,2,3,4],[1,2,3,4])\n",
    "    2\n",
    "    \"\"\"\n",
    " \n",
    "    start = shuffle_type(start)\n",
    "    counter = 1\n",
    "    while start != end:\n",
    "        start = shuffle_type(start)\n",
    "        counter += 1\n",
    "    return counter\n",
    " \n",
    "def main():\n",
    "    doctest.testmod()\n",
    " \n",
    "    print(\"Length of the deck of cards | Perfect shuffles needed to obtain the same deck back\")\n",
    "    for length in (8, 14, 52):\n",
    "        deck = list(range(length))\n",
    "        shuffles_needed = after_how_many_is_equal(magic_shuffle,deck,deck)\n",
    "        print(\"{} | {}\".format(length,shuffles_needed))\n",
    " \n",
    " \n",
    "if __name__ == \"__main__\":\n",
    "    main()\n",
    " "
   ]
  },
  {
   "cell_type": "markdown",
   "id": "8707c9aa",
   "metadata": {},
   "source": [
    "### 8) Steve has a string of lowercase characters in range ascii[[\"a\"..\"z\"]]. He wants to reduce the string to its shortest length by doing a series of operations. In each operation, he selects a pair of adjacent lowercase letters that match, and he deletesthem. For instance, the string aab could be shortened to b in one operation. Steve’s task is to delete as many characters as possible using this method and print the resulting string. If the final string is empty, return \"Empty String\"."
   ]
  },
  {
   "cell_type": "code",
   "execution_count": null,
   "id": "c8b258ff",
   "metadata": {},
   "outputs": [],
   "source": [
    "import re\n",
    "\n",
    "def superReducedString(s):\n",
    "    while re.search(r\"(\\w)\\1\", s):\n",
    "        s = re.sub(r\"(\\w)\\1\", \"\", s)\n",
    "    return s or \"Empty String\"\n",
    "print(superReducedString(input()))\n"
   ]
  },
  {
   "cell_type": "markdown",
   "id": "35916c1f",
   "metadata": {},
   "source": [
    "### 1) Write a function that returns the longest non-repeating substring for a string input."
   ]
  },
  {
   "cell_type": "code",
   "execution_count": 114,
   "id": "f0d3afdc",
   "metadata": {},
   "outputs": [
    {
     "name": "stdout",
     "output_type": "stream",
     "text": [
      "Enter the string yugaa bhararthi\n",
      "yuga bhrti\n"
     ]
    }
   ],
   "source": [
    "a=input('Enter the string ')\n",
    "lst=[]\n",
    "str_1=\"\"\n",
    "for i in a:\n",
    "    if i not in lst:\n",
    "        lst.append(i)\n",
    "res=str_1.join(lst)\n",
    "print(res)"
   ]
  },
  {
   "cell_type": "markdown",
   "id": "8e0d0693",
   "metadata": {},
   "source": [
    "### 7) Create a function which replaces all instances of \"nts\" with \"nce\" and vice versa if they are at the end of a word."
   ]
  },
  {
   "cell_type": "code",
   "execution_count": 82,
   "id": "67f11453",
   "metadata": {},
   "outputs": [
    {
     "name": "stdout",
     "output_type": "stream",
     "text": [
      "While he rance, I fall into a trants...\n"
     ]
    }
   ],
   "source": [
    "sample_string=\"While he rants, I fall into a trance...\"\n",
    "a=[]\n",
    "for i in sample_string.split(\" \"):\n",
    "    if 'nts' in i:\n",
    "        aa = i.replace('nts','nce')\n",
    "        a.append(aa)\n",
    "    elif 'nce' in i:\n",
    "        bb=i.replace('nce','nts')\n",
    "        a.append(bb)\n",
    "    else:\n",
    "        a.append(i)\n",
    "    res=' '.join(a)\n",
    "print(res)"
   ]
  },
  {
   "cell_type": "markdown",
   "id": "55cfba70",
   "metadata": {},
   "source": [
    "### 4) In this challenge, you have to add a variable amount of hours, minutes and seconds to a given time, obtaining, in turn, a new adjusted time."
   ]
  },
  {
   "cell_type": "code",
   "execution_count": 110,
   "id": "aeb562b3",
   "metadata": {},
   "outputs": [
    {
     "name": "stdout",
     "output_type": "stream",
     "text": [
      "['2', '30', '10']\n"
     ]
    }
   ],
   "source": [
    "def time_adjust(now,hrs,mins,sec):\n",
    "  current = [int(i) for i in now.split(\":\")]\n",
    "  values = [hrs,mins,sec]\n",
    "  limit = (24,60,60)\n",
    "  for i in range(0,3):\n",
    "    current[i] = current[i] + values[i]\n",
    "    if current[i]>limit[i]:\n",
    "      current[i]-=limit[i]\n",
    "    current[i] = str(current[i])\n",
    "  return(current)\n",
    "       \n",
    "print(time_adjust(\"01:00:00\", 1, 30, 10))"
   ]
  },
  {
   "cell_type": "markdown",
   "id": "364481cb",
   "metadata": {},
   "source": [
    "### 12) Mubashir is not good in python programming. By mistake, he swapped keys and data values in the dictionary."
   ]
  },
  {
   "cell_type": "code",
   "execution_count": 1,
   "id": "0e5ac230",
   "metadata": {},
   "outputs": [
    {
     "name": "stdout",
     "output_type": "stream",
     "text": [
      "Original dictionary is : \n",
      "{'Mubashir': 'Name', '31': 'Age', 'Male': 'Sex', 'Pilot': 'Job', 'Matt': 'Name', '40': 'Age', 'Programmer': 'Job'}\n",
      "\n",
      "Dictionary after swapping is : \n",
      "keys: values\n",
      "Name  : ['Mubashir', 'Matt']\n",
      "Age  : ['31', '40']\n",
      "Sex  : ['Male']\n",
      "Job  : ['Pilot', 'Programmer']\n"
     ]
    }
   ],
   "source": [
    "old_dict = {\n",
    "\"Mubashir\": \"Name\",\n",
    "\"31\": \"Age\",\n",
    "\"Male\": \"Sex\",\n",
    "\"Pilot\": \"Job\",\n",
    "\"Matt\": \"Name\",\n",
    "\"40\": \"Age\",\n",
    "\"Programmer\": \"Job\"\n",
    "}\n",
    "\n",
    "print (\"Original dictionary is : \")\n",
    "print(old_dict)\n",
    "print()\n",
    "new_dict = {}\n",
    "for key, value in old_dict.items():\n",
    "    if value in new_dict:\n",
    "        new_dict[value].append(key)\n",
    "    else:\n",
    "        new_dict[value]=[key]\n",
    "\n",
    "print (\"Dictionary after swapping is : \")\n",
    "print(\"keys: values\")\n",
    "for i in new_dict:\n",
    "    print(i, \" :\", new_dict[i])"
   ]
  },
  {
   "cell_type": "code",
   "execution_count": null,
   "id": "46b330aa",
   "metadata": {},
   "outputs": [],
   "source": []
  }
 ],
 "metadata": {
  "kernelspec": {
   "display_name": "Python 3 (ipykernel)",
   "language": "python",
   "name": "python3"
  },
  "language_info": {
   "codemirror_mode": {
    "name": "ipython",
    "version": 3
   },
   "file_extension": ".py",
   "mimetype": "text/x-python",
   "name": "python",
   "nbconvert_exporter": "python",
   "pygments_lexer": "ipython3",
   "version": "3.8.10"
  }
 },
 "nbformat": 4,
 "nbformat_minor": 5
}

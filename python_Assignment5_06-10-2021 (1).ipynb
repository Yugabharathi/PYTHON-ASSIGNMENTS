{
 "cells": [
  {
   "cell_type": "markdown",
   "id": "bac98d92",
   "metadata": {},
   "source": [
    "## => write a program to show the use of any 10 types of exception:"
   ]
  },
  {
   "cell_type": "markdown",
   "id": "cbed49d9",
   "metadata": {},
   "source": [
    "### *syntaxWarning error"
   ]
  },
  {
   "cell_type": "code",
   "execution_count": 1,
   "id": "8afaae58",
   "metadata": {},
   "outputs": [
    {
     "name": "stdout",
     "output_type": "stream",
     "text": [
      "hai yuga\n"
     ]
    },
    {
     "name": "stderr",
     "output_type": "stream",
     "text": [
      "<>:2: SyntaxWarning: \"is\" with a literal. Did you mean \"==\"?\n",
      "<>:2: SyntaxWarning: \"is\" with a literal. Did you mean \"==\"?\n",
      "/tmp/ipykernel_91433/4255599561.py:2: SyntaxWarning: \"is\" with a literal. Did you mean \"==\"?\n",
      "  if name is \"yuga\":\n"
     ]
    }
   ],
   "source": [
    "name=(\"yuga\")\n",
    "if name is \"yuga\":\n",
    "    print(\"hai\",name)"
   ]
  },
  {
   "cell_type": "markdown",
   "id": "7a80afa1",
   "metadata": {},
   "source": [
    "### *Type error"
   ]
  },
  {
   "cell_type": "code",
   "execution_count": 2,
   "id": "64b6f810",
   "metadata": {},
   "outputs": [
    {
     "ename": "TypeError",
     "evalue": "add() takes 2 positional arguments but 3 positional arguments (and 1 keyword-only argument) were given",
     "output_type": "error",
     "traceback": [
      "\u001b[0;31m---------------------------------------------------------------------------\u001b[0m",
      "\u001b[0;31mTypeError\u001b[0m                                 Traceback (most recent call last)",
      "\u001b[0;32m/tmp/ipykernel_91433/1301155792.py\u001b[0m in \u001b[0;36m<module>\u001b[0;34m\u001b[0m\n\u001b[1;32m      2\u001b[0m     \u001b[0;32mreturn\u001b[0m \u001b[0ma\u001b[0m\u001b[0;34m+\u001b[0m\u001b[0mb\u001b[0m\u001b[0;34m+\u001b[0m\u001b[0mc\u001b[0m\u001b[0;34m+\u001b[0m\u001b[0md\u001b[0m\u001b[0;34m\u001b[0m\u001b[0;34m\u001b[0m\u001b[0m\n\u001b[1;32m      3\u001b[0m \u001b[0;34m\u001b[0m\u001b[0m\n\u001b[0;32m----> 4\u001b[0;31m \u001b[0mprint\u001b[0m \u001b[0;34m(\u001b[0m\u001b[0madd\u001b[0m\u001b[0;34m(\u001b[0m\u001b[0;36m3\u001b[0m\u001b[0;34m,\u001b[0m\u001b[0;36m4\u001b[0m\u001b[0;34m,\u001b[0m\u001b[0;36m1\u001b[0m\u001b[0;34m,\u001b[0m\u001b[0md\u001b[0m\u001b[0;34m=\u001b[0m\u001b[0;36m2\u001b[0m\u001b[0;34m)\u001b[0m\u001b[0;34m)\u001b[0m\u001b[0;34m\u001b[0m\u001b[0;34m\u001b[0m\u001b[0m\n\u001b[0m",
      "\u001b[0;31mTypeError\u001b[0m: add() takes 2 positional arguments but 3 positional arguments (and 1 keyword-only argument) were given"
     ]
    }
   ],
   "source": [
    "def add(a,b,*,c,d):\n",
    "    return a+b+c+d\n",
    "\n",
    "print (add(3,4,1,d=2))"
   ]
  },
  {
   "cell_type": "markdown",
   "id": "ee60f4d0",
   "metadata": {},
   "source": [
    "## *attributeError"
   ]
  },
  {
   "cell_type": "code",
   "execution_count": 3,
   "id": "f72ab5eb",
   "metadata": {},
   "outputs": [
    {
     "name": "stdout",
     "output_type": "stream",
     "text": [
      "enter the integer------> 10\n",
      "Cannot append element with int \n"
     ]
    }
   ],
   "source": [
    "x=int(input(\"enter the integer------> \"))\n",
    "try:\n",
    "    x.append()\n",
    "except AttributeError:\n",
    "    print(\"Cannot append element with int \")"
   ]
  },
  {
   "cell_type": "markdown",
   "id": "98ec565b",
   "metadata": {},
   "source": [
    "## *ValueError"
   ]
  },
  {
   "cell_type": "code",
   "execution_count": 4,
   "id": "8a921250",
   "metadata": {},
   "outputs": [
    {
     "name": "stdout",
     "output_type": "stream",
     "text": [
      "a number: 0\n"
     ]
    }
   ],
   "source": [
    "while True:\n",
    "    try:\n",
    "        x = int(input(\"a number: \"))\n",
    "        break\n",
    "    except ValueError:\n",
    "        print(\"it is not a valid number.  Try again...\")"
   ]
  },
  {
   "cell_type": "markdown",
   "id": "c727fd87",
   "metadata": {},
   "source": [
    "## *OverFlowError"
   ]
  },
  {
   "cell_type": "code",
   "execution_count": 6,
   "id": "da0ac234",
   "metadata": {},
   "outputs": [
    {
     "name": "stdout",
     "output_type": "stream",
     "text": [
      "Enter the number below 100  ----> 10\n",
      "The exponential value for 10 is \n",
      "22026.465794806718\n"
     ]
    }
   ],
   "source": [
    "try:\n",
    "    import math\n",
    "    a=int(input(\"Enter the number below 100  ----> \"))\n",
    "    print(\"The exponential value for {} is \".format(a))\n",
    "    print(math.exp(a))\n",
    "except OverflowError:\n",
    "    print(\"Enter the number below 100\")"
   ]
  },
  {
   "cell_type": "markdown",
   "id": "7d10d7e1",
   "metadata": {},
   "source": [
    "## *FileFoundError"
   ]
  },
  {
   "cell_type": "code",
   "execution_count": 7,
   "id": "1f60dde9",
   "metadata": {},
   "outputs": [
    {
     "name": "stdout",
     "output_type": "stream",
     "text": [
      "File not found\n"
     ]
    }
   ],
   "source": [
    "import sys\n",
    "try:\n",
    "    file = open('myfile.txt')\n",
    "    print(file)\n",
    "except FileNotFoundError:\n",
    "    print(\"File not found\")"
   ]
  },
  {
   "cell_type": "markdown",
   "id": "dd1af34a",
   "metadata": {},
   "source": [
    "## *NOtImplementedError"
   ]
  },
  {
   "cell_type": "code",
   "execution_count": 8,
   "id": "00783fbf",
   "metadata": {},
   "outputs": [
    {
     "name": "stdout",
     "output_type": "stream",
     "text": [
      "SubClass trying something!\n"
     ]
    },
    {
     "ename": "NotImplementedError",
     "evalue": "BaseClass.try_something",
     "output_type": "error",
     "traceback": [
      "\u001b[0;31m---------------------------------------------------------------------------\u001b[0m",
      "\u001b[0;31mNotImplementedError\u001b[0m                       Traceback (most recent call last)",
      "\u001b[0;32m/tmp/ipykernel_91433/2338281848.py\u001b[0m in \u001b[0;36m<module>\u001b[0;34m\u001b[0m\n\u001b[1;32m     11\u001b[0m     \u001b[0mprint\u001b[0m\u001b[0;34m(\u001b[0m\u001b[0;34m\"jdhfgvisdgf\"\u001b[0m\u001b[0;34m)\u001b[0m\u001b[0;34m\u001b[0m\u001b[0;34m\u001b[0m\u001b[0m\n\u001b[1;32m     12\u001b[0m \u001b[0mSubClass\u001b[0m\u001b[0;34m(\u001b[0m\u001b[0;34m)\u001b[0m\u001b[0;34m.\u001b[0m\u001b[0mdo_something\u001b[0m\u001b[0;34m(\u001b[0m\u001b[0;34m)\u001b[0m\u001b[0;34m\u001b[0m\u001b[0;34m\u001b[0m\u001b[0m\n\u001b[0;32m---> 13\u001b[0;31m \u001b[0mBaseClass\u001b[0m\u001b[0;34m(\u001b[0m\u001b[0;34m)\u001b[0m\u001b[0;34m.\u001b[0m\u001b[0mdo_something\u001b[0m\u001b[0;34m(\u001b[0m\u001b[0;34m)\u001b[0m\u001b[0;34m\u001b[0m\u001b[0;34m\u001b[0m\u001b[0m\n\u001b[0m",
      "\u001b[0;32m/tmp/ipykernel_91433/2338281848.py\u001b[0m in \u001b[0;36mdo_something\u001b[0;34m(self)\u001b[0m\n\u001b[1;32m      4\u001b[0m             \u001b[0msuper\u001b[0m\u001b[0;34m(\u001b[0m\u001b[0mBaseClass\u001b[0m\u001b[0;34m,\u001b[0m \u001b[0mself\u001b[0m\u001b[0;34m)\u001b[0m\u001b[0;34m.\u001b[0m\u001b[0m__init__\u001b[0m\u001b[0;34m(\u001b[0m\u001b[0;34m)\u001b[0m\u001b[0;34m\u001b[0m\u001b[0;34m\u001b[0m\u001b[0m\n\u001b[1;32m      5\u001b[0m         \u001b[0;32mdef\u001b[0m \u001b[0mdo_something\u001b[0m\u001b[0;34m(\u001b[0m\u001b[0mself\u001b[0m\u001b[0;34m)\u001b[0m\u001b[0;34m:\u001b[0m\u001b[0;34m\u001b[0m\u001b[0;34m\u001b[0m\u001b[0m\n\u001b[0;32m----> 6\u001b[0;31m             \u001b[0;32mraise\u001b[0m \u001b[0mNotImplementedError\u001b[0m\u001b[0;34m(\u001b[0m\u001b[0mself\u001b[0m\u001b[0;34m.\u001b[0m\u001b[0m__class__\u001b[0m\u001b[0;34m.\u001b[0m\u001b[0m__name__\u001b[0m \u001b[0;34m+\u001b[0m \u001b[0;34m'.try_something'\u001b[0m\u001b[0;34m)\u001b[0m\u001b[0;34m\u001b[0m\u001b[0;34m\u001b[0m\u001b[0m\n\u001b[0m\u001b[1;32m      7\u001b[0m     \u001b[0;32mclass\u001b[0m \u001b[0mSubClass\u001b[0m\u001b[0;34m(\u001b[0m\u001b[0mBaseClass\u001b[0m\u001b[0;34m)\u001b[0m\u001b[0;34m:\u001b[0m\u001b[0;34m\u001b[0m\u001b[0;34m\u001b[0m\u001b[0m\n\u001b[1;32m      8\u001b[0m         \u001b[0;32mdef\u001b[0m \u001b[0mdo_something\u001b[0m\u001b[0;34m(\u001b[0m\u001b[0mself\u001b[0m\u001b[0;34m)\u001b[0m\u001b[0;34m:\u001b[0m\u001b[0;34m\u001b[0m\u001b[0;34m\u001b[0m\u001b[0m\n",
      "\u001b[0;31mNotImplementedError\u001b[0m: BaseClass.try_something"
     ]
    }
   ],
   "source": [
    "try:\n",
    "    class BaseClass(object):\n",
    "        def __init__(self):\n",
    "            super(BaseClass, self).__init__()\n",
    "        def do_something(self):\n",
    "            raise NotImplementedError(self.__class__.__name__ + '.try_something')\n",
    "    class SubClass(BaseClass):\n",
    "        def do_something(self):\n",
    "            print (self.__class__.__name__ + ' trying something!')\n",
    "except NotImplementedError :\n",
    "    print(\"jdhfgvisdgf\")\n",
    "SubClass().do_something()\n",
    "BaseClass().do_something()"
   ]
  },
  {
   "cell_type": "markdown",
   "id": "31e5ac51",
   "metadata": {},
   "source": [
    "## ==> Write a program to show the use of any 10 built in function:"
   ]
  },
  {
   "cell_type": "markdown",
   "id": "84abbd8a",
   "metadata": {},
   "source": [
    "### *isinstance"
   ]
  },
  {
   "cell_type": "code",
   "execution_count": 9,
   "id": "ee5b8ff2",
   "metadata": {},
   "outputs": [
    {
     "ename": "NameError",
     "evalue": "name 'list1' is not defined",
     "output_type": "error",
     "traceback": [
      "\u001b[0;31m---------------------------------------------------------------------------\u001b[0m",
      "\u001b[0;31mNameError\u001b[0m                                 Traceback (most recent call last)",
      "\u001b[0;32m/tmp/ipykernel_91433/792490517.py\u001b[0m in \u001b[0;36m<module>\u001b[0;34m\u001b[0m\n\u001b[1;32m      1\u001b[0m \u001b[0mname_list\u001b[0m\u001b[0;34m=\u001b[0m\u001b[0;34m{\u001b[0m\u001b[0;34m\"KAVIN\"\u001b[0m\u001b[0;34m,\u001b[0m\u001b[0;34m\"harpreet\"\u001b[0m\u001b[0;34m,\u001b[0m\u001b[0;34m\"aamruth\"\u001b[0m\u001b[0;34m}\u001b[0m\u001b[0;34m\u001b[0m\u001b[0;34m\u001b[0m\u001b[0m\n\u001b[0;32m----> 2\u001b[0;31m \u001b[0misinstance\u001b[0m\u001b[0;34m(\u001b[0m\u001b[0mlist1\u001b[0m\u001b[0;34m,\u001b[0m\u001b[0mset\u001b[0m\u001b[0;34m)\u001b[0m \u001b[0;31m#check if an object is of what type in it.\u001b[0m\u001b[0;34m\u001b[0m\u001b[0;34m\u001b[0m\u001b[0m\n\u001b[0m",
      "\u001b[0;31mNameError\u001b[0m: name 'list1' is not defined"
     ]
    }
   ],
   "source": [
    "name_list={\"KAVIN\",\"harpreet\",\"aamruth\"}\n",
    "isinstance(list1,set) #check if an object is of what type in it."
   ]
  },
  {
   "cell_type": "markdown",
   "id": "acfd153a",
   "metadata": {},
   "source": [
    "### *zip"
   ]
  },
  {
   "cell_type": "code",
   "execution_count": 10,
   "id": "5f519009",
   "metadata": {},
   "outputs": [
    {
     "data": {
      "text/plain": [
       "[('apple', 11), ('orange', 22), ('mango', 33), ('strawberry', 44)]"
      ]
     },
     "execution_count": 10,
     "metadata": {},
     "output_type": "execute_result"
    }
   ],
   "source": [
    "fruits=(\"apple\",\"orange\",\"mango\",\"strawberry\")\n",
    "quantity=[11,22,33,44,55]\n",
    "zip(fruits,quantity)#used to zip two different object\n",
    "\n",
    "list(zip(fruits,quantity))"
   ]
  },
  {
   "cell_type": "markdown",
   "id": "8270a677",
   "metadata": {},
   "source": [
    "### *Map"
   ]
  },
  {
   "cell_type": "code",
   "execution_count": 11,
   "id": "bcf3897a",
   "metadata": {},
   "outputs": [
    {
     "data": {
      "text/plain": [
       "{2, 4, 6, 8, 10, 12, 14, 16, 18}"
      ]
     },
     "execution_count": 11,
     "metadata": {},
     "output_type": "execute_result"
    }
   ],
   "source": [
    "Numbers={1,2,3,4,5,6,7,8,9}\n",
    "set(map(lambda x:x*2,Numbers))\n",
    "#Map use to apply math operation to all iterable elements"
   ]
  },
  {
   "cell_type": "markdown",
   "id": "43f6ebe4",
   "metadata": {},
   "source": [
    "### *Filter"
   ]
  },
  {
   "cell_type": "code",
   "execution_count": 12,
   "id": "5bc7a268",
   "metadata": {},
   "outputs": [
    {
     "data": {
      "text/plain": [
       "{1, 3, 5, 7, 9}"
      ]
     },
     "execution_count": 12,
     "metadata": {},
     "output_type": "execute_result"
    }
   ],
   "source": [
    "Numbers={1,2,3,4,5,6,7,8,9}\n",
    "set(filter(lambda x:x%2,Numbers))"
   ]
  },
  {
   "cell_type": "markdown",
   "id": "90c01b96",
   "metadata": {},
   "source": [
    "### *Input"
   ]
  },
  {
   "cell_type": "code",
   "execution_count": 13,
   "id": "168ae767",
   "metadata": {},
   "outputs": [
    {
     "name": "stdout",
     "output_type": "stream",
     "text": [
      "Enter your name:yuga\n",
      "yuga\n"
     ]
    }
   ],
   "source": [
    "name=str(input(\"Enter your name:\"))\n",
    "print(name)"
   ]
  },
  {
   "cell_type": "markdown",
   "id": "bfde6d1b",
   "metadata": {},
   "source": [
    "### *hex"
   ]
  },
  {
   "cell_type": "code",
   "execution_count": 14,
   "id": "3bfbab60",
   "metadata": {},
   "outputs": [
    {
     "name": "stdout",
     "output_type": "stream",
     "text": [
      "0x12\n"
     ]
    }
   ],
   "source": [
    "value=hex(18)#gives hex value\n",
    "print(value)"
   ]
  },
  {
   "cell_type": "markdown",
   "id": "7d0cdedc",
   "metadata": {},
   "source": [
    "### *bin"
   ]
  },
  {
   "cell_type": "code",
   "execution_count": 15,
   "id": "1b8b95dc",
   "metadata": {},
   "outputs": [
    {
     "name": "stdout",
     "output_type": "stream",
     "text": [
      "0b1010\n"
     ]
    }
   ],
   "source": [
    "value1=bin(10)#GIVES bin value\n",
    "print(value1)"
   ]
  },
  {
   "cell_type": "markdown",
   "id": "e8b8fc3e",
   "metadata": {},
   "source": [
    "### *format"
   ]
  },
  {
   "cell_type": "code",
   "execution_count": 16,
   "id": "0aed7e94",
   "metadata": {},
   "outputs": [
    {
     "name": "stdout",
     "output_type": "stream",
     "text": [
      "123.46 15.7% a +1.23e+02 *********************123.45789\n"
     ]
    }
   ],
   "source": [
    "a=format(123.45789,'.2f')\n",
    "\n",
    "# percentage rounded off to one decimal place\n",
    "b=format(0.1569,'.1%')\n",
    "\n",
    "\n",
    "# hexadecimal number \n",
    "c=format(10,'x')\n",
    "\n",
    "\n",
    "# exponential notation rounded off two decimal places with sign for both positive and negative numbers\n",
    "d=format(123.45789,'+.2e')\n",
    "\n",
    "# number with fill character, width, and right-alignment\n",
    "e=format(123.45789,'*>30')\n",
    "\n",
    "print(a,b,c,d,e)"
   ]
  },
  {
   "cell_type": "markdown",
   "id": "1dfb3e4b",
   "metadata": {},
   "source": [
    "## *eval"
   ]
  },
  {
   "cell_type": "code",
   "execution_count": 17,
   "id": "e3cf1042",
   "metadata": {},
   "outputs": [
    {
     "data": {
      "text/plain": [
       "8"
      ]
     },
     "execution_count": 17,
     "metadata": {},
     "output_type": "execute_result"
    }
   ],
   "source": [
    "eval('len(\"harpreet\")')#used to evaluate string in int "
   ]
  },
  {
   "cell_type": "markdown",
   "id": "1cb94042",
   "metadata": {},
   "source": [
    "## *Enumurate"
   ]
  },
  {
   "cell_type": "code",
   "execution_count": 18,
   "id": "6dcaf84d",
   "metadata": {},
   "outputs": [
    {
     "name": "stdout",
     "output_type": "stream",
     "text": [
      "(0, 'yuga')\n",
      "(1, 'amruth')\n",
      "(2, 'harpreet')\n",
      "(3, 'bharathi')\n",
      "Index: 0, Item: yuga \n",
      "Index: 1, Item: amruth \n",
      "Index: 2, Item: harpreet \n",
      "Index: 3, Item: bharathi \n"
     ]
    }
   ],
   "source": [
    "names = ['yuga', 'amruth', 'harpreet', 'bharathi']\n",
    "\n",
    "for names_index in enumerate(names):\n",
    "    print(names_index)\n",
    "for index, item in enumerate(names):\n",
    "    print('Index: {}, Item: {} '.format(index, item))"
   ]
  },
  {
   "cell_type": "markdown",
   "id": "5662ccfc",
   "metadata": {},
   "source": [
    "## ==>write a program to show the use of break and continue:"
   ]
  },
  {
   "cell_type": "markdown",
   "id": "29c592f8",
   "metadata": {},
   "source": [
    "### *Break"
   ]
  },
  {
   "cell_type": "code",
   "execution_count": 19,
   "id": "8ef64482",
   "metadata": {},
   "outputs": [
    {
     "name": "stdout",
     "output_type": "stream",
     "text": [
      "harpreet beauti"
     ]
    }
   ],
   "source": [
    "for name in \"harpreet beautifull\":\n",
    "    if name==\"f\":\n",
    "        break #break use to stop the loop\n",
    "    print(name,end=\"\")\n"
   ]
  },
  {
   "cell_type": "markdown",
   "id": "44b2a5c7",
   "metadata": {},
   "source": [
    "### *Continue"
   ]
  },
  {
   "cell_type": "code",
   "execution_count": 20,
   "id": "24a93eee",
   "metadata": {},
   "outputs": [
    {
     "name": "stdout",
     "output_type": "stream",
     "text": [
      "harreet"
     ]
    }
   ],
   "source": [
    "for name in \"harpreet\":\n",
    "    if name==\"p\":\n",
    "        continue #continue skips the value\n",
    "    print(name,end=\"\") \n",
    "    "
   ]
  },
  {
   "cell_type": "markdown",
   "id": "37858e05",
   "metadata": {},
   "source": [
    "## ==> Implementing oops concept:"
   ]
  },
  {
   "cell_type": "markdown",
   "id": "82e8de89",
   "metadata": {},
   "source": [
    "## *Inheritance"
   ]
  },
  {
   "cell_type": "code",
   "execution_count": 21,
   "id": "83c865ad",
   "metadata": {},
   "outputs": [],
   "source": [
    "class student:          \n",
    "\n",
    "    def __init__(self, name, year):\n",
    "        self.name = name \n",
    "        self.year = year\n",
    "\n",
    "    def name_1(self):                \n",
    "        return f\"The {self.name} is a teacher and studied in the year {self.year} , staying in punjab\"\n",
    "\n",
    "class subject(student):\n",
    "    pass\n",
    "    \n",
    "class collage(student):     \n",
    "    def clas_std(self):\n",
    "        return \"information of students is here.\""
   ]
  },
  {
   "cell_type": "code",
   "execution_count": 22,
   "id": "d63bacf0",
   "metadata": {},
   "outputs": [
    {
     "name": "stdout",
     "output_type": "stream",
     "text": [
      "The harpreet is a teacher and studied in the year 1990 , staying in punjab\n",
      "The kaur is a teacher and studied in the year 1991 , staying in punjab\n",
      "information of students is here.\n"
     ]
    }
   ],
   "source": [
    "obj1 = subject(\"harpreet\",1990)\n",
    "print(obj1.name_1())\n",
    "obj2 = collage(\"kaur\",1991)\n",
    "print(obj2.name_1())\n",
    "print(obj2.clas_std())"
   ]
  },
  {
   "cell_type": "code",
   "execution_count": null,
   "id": "ae1712e1",
   "metadata": {},
   "outputs": [],
   "source": []
  },
  {
   "cell_type": "markdown",
   "id": "39fe3f36",
   "metadata": {},
   "source": [
    "## *Method"
   ]
  },
  {
   "cell_type": "code",
   "execution_count": 23,
   "id": "ce5e0ace",
   "metadata": {},
   "outputs": [],
   "source": [
    "class student:          \n",
    "\n",
    "    def __init__(self, name, year):\n",
    "        self.name = name \n",
    "        self.year = year\n",
    "\n",
    "    def name_1(self):                \n",
    "        return f\"{self.name} is a teacher and studied in the year {self.year} , staying in punjab\"\n",
    "    def collage(self):\n",
    "        return f\"The {self.name} passout in the year {self.year}\"\n",
    "        "
   ]
  },
  {
   "cell_type": "code",
   "execution_count": 24,
   "id": "ffce64e4",
   "metadata": {},
   "outputs": [
    {
     "name": "stdout",
     "output_type": "stream",
     "text": [
      "harpreet is a teacher and studied in the year 1990 , staying in punjab\n",
      "The harpreet passout in the year 1990\n"
     ]
    }
   ],
   "source": [
    "obj = student(\"harpreet\",1990)\n",
    "print(obj.name_1())\n",
    "print(obj.collage())"
   ]
  },
  {
   "cell_type": "code",
   "execution_count": null,
   "id": "be05619d",
   "metadata": {},
   "outputs": [],
   "source": []
  },
  {
   "cell_type": "markdown",
   "id": "79033a9d",
   "metadata": {},
   "source": [
    "## *Encapsulation"
   ]
  },
  {
   "cell_type": "code",
   "execution_count": 25,
   "id": "d8b11b06",
   "metadata": {},
   "outputs": [
    {
     "name": "stdout",
     "output_type": "stream",
     "text": [
      "Harpreet is a teacher and her age is 96 , staying in punjab\n",
      "Harpreet\n",
      "96\n"
     ]
    }
   ],
   "source": [
    "class student:\n",
    "    def __init__(self, name, age):\n",
    "        self._name = name                \n",
    "        self._age = age \n",
    "\n",
    "    def name_1(self):                \n",
    "        return f\"{self._name} is a teacher and her age is {self._age} , staying in punjab\"\n",
    "collage = student(\"Harpreet\",96)\n",
    "print(collage.name_1())\n",
    "print(collage._name)\n",
    "print(collage._age)"
   ]
  },
  {
   "cell_type": "code",
   "execution_count": null,
   "id": "3597066b",
   "metadata": {},
   "outputs": [],
   "source": []
  },
  {
   "cell_type": "markdown",
   "id": "098e9fe2",
   "metadata": {},
   "source": [
    "## *Polymorphism"
   ]
  },
  {
   "cell_type": "code",
   "execution_count": 26,
   "id": "f8686ca1",
   "metadata": {},
   "outputs": [],
   "source": [
    "class Dog:\n",
    "    def breed(self):\n",
    "        print(\"It is breed of Dog\")\n",
    "\n",
    "class Cat:\n",
    "    def breed(self):\n",
    "        print(\"It is breed of cat.\")"
   ]
  },
  {
   "cell_type": "code",
   "execution_count": 27,
   "id": "77990d1d",
   "metadata": {},
   "outputs": [
    {
     "name": "stdout",
     "output_type": "stream",
     "text": [
      "It is breed of Dog\n",
      "It is breed of cat.\n"
     ]
    }
   ],
   "source": [
    "Rattwheel = Dog()\n",
    "Persian = Cat()\n",
    "for pet in (Rattwheel,Persian):\n",
    "    pet.breed()"
   ]
  },
  {
   "cell_type": "markdown",
   "id": "34819155",
   "metadata": {},
   "source": [
    "## write a program to show different between different kind of arguments in function:"
   ]
  },
  {
   "cell_type": "markdown",
   "id": "522a4dcd",
   "metadata": {},
   "source": [
    "### *default arguments."
   ]
  },
  {
   "cell_type": "code",
   "execution_count": 28,
   "id": "7b1f6872",
   "metadata": {},
   "outputs": [
    {
     "name": "stdout",
     "output_type": "stream",
     "text": [
      "17\n"
     ]
    }
   ],
   "source": [
    "def add(a,b=5,c=10):\n",
    "    return (a+b+c)\n",
    "print(add(2))"
   ]
  },
  {
   "cell_type": "markdown",
   "id": "f1b28f98",
   "metadata": {},
   "source": [
    "### *keyword arguments."
   ]
  },
  {
   "cell_type": "code",
   "execution_count": 29,
   "id": "1907fd02",
   "metadata": {},
   "outputs": [
    {
     "name": "stdout",
     "output_type": "stream",
     "text": [
      "35\n"
     ]
    }
   ],
   "source": [
    "def add(a,b=5,c=10):\n",
    "    return (a+b+c)\n",
    "print(add(a=20))"
   ]
  },
  {
   "cell_type": "markdown",
   "id": "8d830925",
   "metadata": {},
   "source": [
    "### *positional arguments"
   ]
  },
  {
   "cell_type": "code",
   "execution_count": 30,
   "id": "2da92c5b",
   "metadata": {},
   "outputs": [
    {
     "data": {
      "text/plain": [
       "60"
      ]
     },
     "execution_count": 30,
     "metadata": {},
     "output_type": "execute_result"
    }
   ],
   "source": [
    "def add(a,b,c):\n",
    "    return (a+b+c)\n",
    "add(10,20,30)"
   ]
  },
  {
   "cell_type": "markdown",
   "id": "60d3229a",
   "metadata": {},
   "source": [
    "### *arbitrary positional arguments"
   ]
  },
  {
   "cell_type": "markdown",
   "id": "6233a662",
   "metadata": {},
   "source": [
    "def add(*b):\n",
    "    result=0\n",
    "    for i in b:\n",
    "         result=result+i\n",
    "    return result\n",
    "print (add(1,2,3,4,5))\n",
    "print (add(10,20))"
   ]
  },
  {
   "cell_type": "markdown",
   "id": "9a296fd8",
   "metadata": {},
   "source": [
    "### *arbitrary keyword arguments"
   ]
  },
  {
   "cell_type": "code",
   "execution_count": 31,
   "id": "de60abcc",
   "metadata": {},
   "outputs": [
    {
     "name": "stdout",
     "output_type": "stream",
     "text": [
      "('numbers', 5)\n",
      "('colors', 'blue')\n",
      "('fruits', 'apple')\n"
     ]
    },
    {
     "data": {
      "text/plain": [
       "\"\\nOutput:\\n('numbers', 5)\\n('colors', 'blue')\\n('fruits', 'apple')\\n\""
      ]
     },
     "execution_count": 31,
     "metadata": {},
     "output_type": "execute_result"
    }
   ],
   "source": [
    "def fn(**a):\n",
    "    for i in a.items():\n",
    "        print (i)\n",
    "fn(numbers=5,colors=\"blue\",fruits=\"apple\")\n",
    "'''\n",
    "Output:\n",
    "('numbers', 5)\n",
    "('colors', 'blue')\n",
    "('fruits', 'apple')\n",
    "'''\n"
   ]
  },
  {
   "cell_type": "markdown",
   "id": "2f2de7ab",
   "metadata": {},
   "source": [
    "## ==> For Loop"
   ]
  },
  {
   "cell_type": "code",
   "execution_count": 33,
   "id": "f27cdab3",
   "metadata": {},
   "outputs": [
    {
     "name": "stdout",
     "output_type": "stream",
     "text": [
      "2\n",
      "3\n",
      "4\n",
      "5\n",
      "6\n"
     ]
    }
   ],
   "source": [
    "x=0\n",
    "for x in range(2,7):\n",
    "    print(x)"
   ]
  },
  {
   "cell_type": "markdown",
   "id": "beae91c8",
   "metadata": {},
   "source": [
    "## ==> While Loop"
   ]
  },
  {
   "cell_type": "code",
   "execution_count": 32,
   "id": "af51ad70",
   "metadata": {},
   "outputs": [
    {
     "name": "stdout",
     "output_type": "stream",
     "text": [
      "0\n",
      "1\n",
      "2\n",
      "3\n"
     ]
    }
   ],
   "source": [
    "x=0\n",
    "while(x <4):\n",
    "    print(x)\n",
    "    x = x+1"
   ]
  },
  {
   "cell_type": "code",
   "execution_count": null,
   "id": "1758141a",
   "metadata": {},
   "outputs": [],
   "source": []
  }
 ],
 "metadata": {
  "kernelspec": {
   "display_name": "Python 3 (ipykernel)",
   "language": "python",
   "name": "python3"
  },
  "language_info": {
   "codemirror_mode": {
    "name": "ipython",
    "version": 3
   },
   "file_extension": ".py",
   "mimetype": "text/x-python",
   "name": "python",
   "nbconvert_exporter": "python",
   "pygments_lexer": "ipython3",
   "version": "3.8.10"
  }
 },
 "nbformat": 4,
 "nbformat_minor": 5
}

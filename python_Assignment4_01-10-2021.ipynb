{
 "cells": [
  {
   "cell_type": "markdown",
   "id": "4918c1d1",
   "metadata": {},
   "source": [
    "### 1)Convert from lambda to def Given a piece of code with a function assigned by lambda, rewrite it into a function assigned by def. The code given would be in string."
   ]
  },
  {
   "cell_type": "code",
   "execution_count": 129,
   "id": "5e5fc2da",
   "metadata": {},
   "outputs": [
    {
     "data": {
      "text/plain": [
       "['Convert', 'lambda', 'to', 'def']"
      ]
     },
     "execution_count": 129,
     "metadata": {},
     "output_type": "execute_result"
    }
   ],
   "source": [
    "string1 = \"Convert lambda to def\"\n",
    "lambda_function = lambda x: x.split(\" \")\n",
    "def func(x):\n",
    "    return x.split(\" \")\n",
    "func(string1)\n",
    "lambda_function(string1)\n"
   ]
  },
  {
   "cell_type": "markdown",
   "id": "340d44e7",
   "metadata": {},
   "source": [
    "### 2)Recursion: Underscore-Hash Staircase Create a function that will build a staircase using the underscore _ and hash # symbols. A positive value denotes the staircase's upward direction and downwards for a negative value."
   ]
  },
  {
   "cell_type": "code",
   "execution_count": 113,
   "id": "f8ba723a",
   "metadata": {},
   "outputs": [
    {
     "name": "stdout",
     "output_type": "stream",
     "text": [
      "_#########\n",
      "__########\n",
      "___#######\n",
      "____######\n",
      "_____#####\n",
      "______####\n",
      "_______###\n",
      "________##\n",
      "_________#\n",
      "__________\n"
     ]
    }
   ],
   "source": [
    "def _Hash_staircase(num):\n",
    "    if num > 0:\n",
    "        for i in range(num):\n",
    "            for j in range (num):\n",
    "                if i+j == num-1:\n",
    "                    print(\"_\"*j+\"#\"*(num-j))\n",
    "    else:\n",
    "        num = abs(num)\n",
    "    for i in range(num):\n",
    "        for j in range (num):\n",
    "            if i+j == num-1:\n",
    "                print(\"_\"*(num-j)+\"#\"*(j))\n",
    "_Hash_staircase(-10)"
   ]
  },
  {
   "cell_type": "markdown",
   "id": "4f35c406",
   "metadata": {},
   "source": [
    "### 3)One Small Favor My friend required some help with an assignment in school and I thought this would be a nice addition to be added as a challenge here as well."
   ]
  },
  {
   "cell_type": "code",
   "execution_count": null,
   "id": "e172d5b2",
   "metadata": {},
   "outputs": [],
   "source": []
  },
  {
   "cell_type": "markdown",
   "id": "5f5f6fdb",
   "metadata": {},
   "source": [
    "### 4) Sum of Digits Create a function that takes a range of numbers and returns the sum of each digit from start to stop."
   ]
  },
  {
   "cell_type": "code",
   "execution_count": 175,
   "id": "e94da8a4",
   "metadata": {},
   "outputs": [
    {
     "name": "stdout",
     "output_type": "stream",
     "text": [
      "901\n"
     ]
    }
   ],
   "source": [
    "def digits_sum(x,y):\n",
    "    out = []\n",
    "    for i in range(x,y+1):\n",
    "        if i < 10:\n",
    "            out.append(i)\n",
    "        else:\n",
    "            sum_of_digits = sum(int(digit) for digit in str(i))\n",
    "            out.append(sum_of_digits)\n",
    "    fin_out = sum(out)\n",
    "    print(fin_out)\n",
    "\n",
    "    \n",
    "    \n",
    "digits_sum(1,100)"
   ]
  },
  {
   "cell_type": "markdown",
   "id": "47bf6b06",
   "metadata": {},
   "source": [
    "### 5) How Many Days between Two Dates?"
   ]
  },
  {
   "cell_type": "code",
   "execution_count": 67,
   "id": "30019e24",
   "metadata": {},
   "outputs": [
    {
     "name": "stdout",
     "output_type": "stream",
     "text": [
      "8 days\n"
     ]
    }
   ],
   "source": [
    "class between_dates:\n",
    "    def __init__(self, d, m, y):\n",
    "        self.d = d\n",
    "        self.m = m\n",
    "        self.y = y\n",
    "\n",
    "    def countLeapYears(d):\n",
    "        years = d.y\n",
    "        if (d.m <= 2):\n",
    "            years -= 1\n",
    "        return int(years / 4) - int(years / 100) + int(years / 400)\n",
    "def Difference(dt1, dt2):\n",
    "    n1 = dt1.y * 365 + dt1.d\n",
    "    for i in range(0, dt1.m - 1):\n",
    "        n1 += monthDays[i]\n",
    "        n1 += countLeapYears(dt1)\n",
    "        n2 = dt2.y * 365 + dt2.d\n",
    "    for i in range(0, dt2.m - 1):\n",
    "        n2 += monthDays[i]\n",
    "        n2 += countLeapYears(dt2)\n",
    "    return (n2 - n1)\n",
    " \n",
    "days1 = between_dates(20, 10, 2021)\n",
    "days2 = between_dates(28, 10, 2021)\n",
    " \n",
    "print(Difference(days1, days2), \"days\")"
   ]
  },
  {
   "cell_type": "markdown",
   "id": "046c4d26",
   "metadata": {},
   "source": [
    "### 6) Recursion: String Compression from Character Array"
   ]
  },
  {
   "cell_type": "code",
   "execution_count": 106,
   "id": "b3f78bc3",
   "metadata": {},
   "outputs": [
    {
     "name": "stdout",
     "output_type": "stream",
     "text": [
      "yuga13bharthi\n"
     ]
    }
   ],
   "source": [
    "                                                                                num=0\n",
    "                                                                                def string_compress(word):\n",
    "                                                                                  global num\n",
    "                                                                                  length_str = len(word)\n",
    "                                                                                  compress_str = \"\"\n",
    "                                                                                  while (num != length_str):\n",
    "                                                                                    count = 1\n",
    "                                                                                    while ((num < (length_str-1)) and (word[num] == word[num+1])):\n",
    "                                                                                      count = count + 1\n",
    "                                                                                      num = num + 1\n",
    "\n",
    "                                                                                    if (count == 1):\n",
    "                                                                                      compress_str += str(word[num])\n",
    "                                                                                    else:\n",
    "                                                                                      compress_str = compress_str + str(word[num]) + str(count)\n",
    "\n",
    "                                                                                    num = num + 1\n",
    "                                                                                  return compress_str\n",
    "\n",
    "\n",
    "                                                                                word = \"yugaaaaaaaaaaaaabharthi\"\n",
    "                                                                                print (string_compress(word))"
   ]
  },
  {
   "cell_type": "markdown",
   "id": "841a4e61",
   "metadata": {},
   "source": [
    "### 7) Free Range Create a function which converts an ordered number list into a list of ranges (represented as strings). Note how some lists have some numbers missing."
   ]
  },
  {
   "cell_type": "code",
   "execution_count": 173,
   "id": "6eac7974",
   "metadata": {},
   "outputs": [
    {
     "name": "stdout",
     "output_type": "stream",
     "text": [
      "[(0, 1), (5, 7), (15, 18), (30, 30)]\n"
     ]
    }
   ],
   "source": [
    "def ranges(lst):\n",
    "    s = e = None\n",
    "    r = []\n",
    "    for i in sorted(lst):\n",
    "        if s is None:\n",
    "            s = e = i\n",
    "        elif i == e or i == e + 1:\n",
    "            e = i\n",
    "        else:\n",
    "            r.append((s, e))\n",
    "            s = e = i\n",
    "    if s is not None:\n",
    "        r.append((s, e))\n",
    "    return r\n",
    "\n",
    "\n",
    "lst = [0,1, 5, 6, 7, 15, 16, 17, 18, 30]\n",
    "\n",
    "print(ranges(lst))"
   ]
  },
  {
   "cell_type": "markdown",
   "id": "849a8a73",
   "metadata": {},
   "source": [
    "### 8) Ones and Zeroes Write a function that returns True if every consecutive sequence of ones is followed by a consecutive sequence of zeroes of the same length."
   ]
  },
  {
   "cell_type": "code",
   "execution_count": 158,
   "id": "35682511",
   "metadata": {},
   "outputs": [
    {
     "name": "stdout",
     "output_type": "stream",
     "text": [
      "True\n"
     ]
    }
   ],
   "source": [
    "def ones_zeros(n):\n",
    "    list1 = []\n",
    "    list2 = []\n",
    "    for i in n:\n",
    "        if int(i) == 0:\n",
    "            list1.append(i)\n",
    "        elif int(i) == 1:\n",
    "            list2.append(i)\n",
    "    if len(list1) == len(list2):\n",
    "        print (\"True\")\n",
    "    else:\n",
    "        print (\"False\")\n",
    "\n",
    "ones_zeros(\"11100010\")"
   ]
  },
  {
   "cell_type": "code",
   "execution_count": null,
   "id": "c8cc10cd",
   "metadata": {},
   "outputs": [],
   "source": []
  }
 ],
 "metadata": {
  "kernelspec": {
   "display_name": "Python 3 (ipykernel)",
   "language": "python",
   "name": "python3"
  },
  "language_info": {
   "codemirror_mode": {
    "name": "ipython",
    "version": 3
   },
   "file_extension": ".py",
   "mimetype": "text/x-python",
   "name": "python",
   "nbconvert_exporter": "python",
   "pygments_lexer": "ipython3",
   "version": "3.8.10"
  }
 },
 "nbformat": 4,
 "nbformat_minor": 5
}
